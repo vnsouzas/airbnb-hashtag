{
  "nbformat": 4,
  "nbformat_minor": 0,
  "metadata": {
    "kernelspec": {
      "display_name": "Python 3 (ipykernel)",
      "language": "python",
      "name": "python3"
    },
    "language_info": {
      "codemirror_mode": {
        "name": "ipython",
        "version": 3
      },
      "file_extension": ".py",
      "mimetype": "text/x-python",
      "name": "python",
      "nbconvert_exporter": "python",
      "pygments_lexer": "ipython3",
      "version": "3.9.6"
    },
    "colab": {
      "provenance": []
    }
  },
  "cells": [
    {
      "cell_type": "markdown",
      "metadata": {
        "id": "s3S0VbXGrztw"
      },
      "source": [
        "# Projeto Airbnb Rio - Ferramenta de Previsão de Preço de Imóvel para pessoas comuns"
      ]
    },
    {
      "cell_type": "markdown",
      "metadata": {
        "id": "kLqReW8hrztz"
      },
      "source": [
        "### Contexto\n",
        "\n",
        "No Airbnb, qualquer pessoa que tenha um quarto ou um imóvel de qualquer tipo (apartamento, casa, chalé, pousada, etc.) pode ofertar o seu imóvel para ser alugado por diária.\n",
        "\n",
        "Você cria o seu perfil de host (pessoa que disponibiliza um imóvel para aluguel por diária) e cria o anúncio do seu imóvel.\n",
        "\n",
        "Nesse anúncio, o host deve descrever as características do imóvel da forma mais completa possível, de forma a ajudar os locadores/viajantes a escolherem o melhor imóvel para eles (e de forma a tornar o seu anúncio mais atrativo)\n",
        "\n",
        "Existem dezenas de personalizações possíveis no seu anúncio, desde quantidade mínima de diária, preço, quantidade de quartos, até regras de cancelamento, taxa extra para hóspedes extras, exigência de verificação de identidade do locador, etc.\n",
        "\n",
        "### Nosso objetivo\n",
        "\n",
        "Construir um modelo de previsão de preço que permita uma pessoa comum que possui um imóvel possa saber quanto deve cobrar pela diária do seu imóvel.\n",
        "\n",
        "Ou ainda, para o locador comum, dado o imóvel que ele está buscando, ajudar a saber se aquele imóvel está com preço atrativo (abaixo da média para imóveis com as mesmas características) ou não.\n",
        "\n",
        "### O que temos disponível, inspirações e créditos\n",
        "\n",
        "As bases de dados foram retiradas do site kaggle: https://www.kaggle.com/allanbruno/airbnb-rio-de-janeiro\n",
        "\n",
        "Elas estão disponíveis para download abaixo da aula (se você puxar os dados direto do Kaggle pode ser que encontre resultados diferentes dos meus, afinal as bases de dados podem ter sido atualizadas).\n",
        "\n",
        "Caso queira uma outra solução, podemos olhar como referência a solução do usuário Allan Bruno do kaggle no Notebook: https://www.kaggle.com/allanbruno/helping-regular-people-price-listings-on-airbnb\n",
        "\n",
        "Você vai perceber semelhanças entre a solução que vamos desenvolver aqui e a dele, mas também algumas diferenças significativas no processo de construção do projeto.\n",
        "\n",
        "- As bases de dados são os preços dos imóveis obtidos e suas respectivas características em cada mês.\n",
        "- Os preços são dados em reais (R$)\n",
        "- Temos bases de abril de 2018 a maio de 2020, com exceção de junho de 2018 que não possui base de dados\n",
        "\n",
        "### Expectativas Iniciais\n",
        "\n",
        "- Acredito que a sazonalidade pode ser um fator importante, visto que meses como dezembro costumam ser bem caros no RJ\n",
        "- A localização do imóvel deve fazer muita diferença no preço, já que no Rio de Janeiro a localização pode mudar completamente as características do lugar (segurança, beleza natural, pontos turísticos)\n",
        "- Adicionais/Comodidades podem ter um impacto significativo, visto que temos muitos prédios e casas antigos no Rio de Janeiro\n",
        "\n",
        "Vamos descobrir o quanto esses fatores impactam e se temos outros fatores não tão intuitivos que são extremamente importantes."
      ]
    },
    {
      "cell_type": "markdown",
      "metadata": {
        "id": "qLmZddmQrzt3"
      },
      "source": [
        "### Importar Bibliotecas e Bases de Dados"
      ]
    },
    {
      "cell_type": "markdown",
      "metadata": {
        "id": "pvDP-DAxrzt4"
      },
      "source": [
        "### Consolidar Base de Dados"
      ]
    },
    {
      "cell_type": "code",
      "metadata": {
        "id": "mSxv4WTGrzt4"
      },
      "source": [
        "import pandas as pd\n",
        "import pathlib\n",
        "import numpy as np\n",
        "import seaborn as sns\n",
        "import matplotlib.pyplot as plt\n",
        "from google.colab import files"
      ],
      "execution_count": null,
      "outputs": []
    },
    {
      "cell_type": "code",
      "metadata": {
        "id": "4R5wtY4-Satx"
      },
      "source": [],
      "execution_count": null,
      "outputs": []
    },
    {
      "cell_type": "code",
      "metadata": {
        "id": "TS3kzNz3rzt6"
      },
      "source": [
        "meses = {'jan': 1, 'fev': 2, 'mar': 3, 'abr': 4, 'mai': 5, 'jun': 6, 'jul': 7, 'ago': 8, 'set': 9, 'out': 10,\n",
        "         'nov': 11, 'dez': 12}"
      ],
      "execution_count": null,
      "outputs": []
    },
    {
      "cell_type": "code",
      "metadata": {
        "colab": {
          "base_uri": "https://localhost:8080/",
          "height": 346
        },
        "id": "6hl0-QJ-rzt6",
        "outputId": "53f1da1c-8477-45c5-bafa-16575471d483"
      },
      "source": [
        "caminho_bases = pathlib.Path('dataset')\n",
        "base_airbnb = pd.DataFrame()\n",
        "\n",
        "for arquivo in caminho_bases.iterdir():\n",
        "    nome_mes = arquivo.name[:3]\n",
        "    mes = meses[nome_mes]\n",
        "\n",
        "    ano = arquivo.name[-8:-4]\n",
        "    #ou ano = arquivo.name[-8:]\n",
        "    #ano = int(ano.replace('.csv', ''))\n",
        "\n",
        "    df = pd.read_csv(caminho_bases / arquivo.name)\n",
        "    df['ano'] = ano\n",
        "    df['mes'] = mes\n",
        "    base_airbnb = base_airbnb.append(df)\n",
        "\n",
        "display(base_airbnb)"
      ],
      "execution_count": null,
      "outputs": [
        {
          "output_type": "error",
          "ename": "FileNotFoundError",
          "evalue": "ignored",
          "traceback": [
            "\u001b[0;31m---------------------------------------------------------------------------\u001b[0m",
            "\u001b[0;31mFileNotFoundError\u001b[0m                         Traceback (most recent call last)",
            "\u001b[0;32m<ipython-input-3-888b011ded52>\u001b[0m in \u001b[0;36m<module>\u001b[0;34m()\u001b[0m\n\u001b[1;32m      2\u001b[0m \u001b[0mbase_airbnb\u001b[0m \u001b[0;34m=\u001b[0m \u001b[0mpd\u001b[0m\u001b[0;34m.\u001b[0m\u001b[0mDataFrame\u001b[0m\u001b[0;34m(\u001b[0m\u001b[0;34m)\u001b[0m\u001b[0;34m\u001b[0m\u001b[0;34m\u001b[0m\u001b[0m\n\u001b[1;32m      3\u001b[0m \u001b[0;34m\u001b[0m\u001b[0m\n\u001b[0;32m----> 4\u001b[0;31m \u001b[0;32mfor\u001b[0m \u001b[0marquivo\u001b[0m \u001b[0;32min\u001b[0m \u001b[0mcaminho_bases\u001b[0m\u001b[0;34m.\u001b[0m\u001b[0miterdir\u001b[0m\u001b[0;34m(\u001b[0m\u001b[0;34m)\u001b[0m\u001b[0;34m:\u001b[0m\u001b[0;34m\u001b[0m\u001b[0;34m\u001b[0m\u001b[0m\n\u001b[0m\u001b[1;32m      5\u001b[0m     \u001b[0mnome_mes\u001b[0m \u001b[0;34m=\u001b[0m \u001b[0marquivo\u001b[0m\u001b[0;34m.\u001b[0m\u001b[0mname\u001b[0m\u001b[0;34m[\u001b[0m\u001b[0;34m:\u001b[0m\u001b[0;36m3\u001b[0m\u001b[0;34m]\u001b[0m\u001b[0;34m\u001b[0m\u001b[0;34m\u001b[0m\u001b[0m\n\u001b[1;32m      6\u001b[0m     \u001b[0mmes\u001b[0m \u001b[0;34m=\u001b[0m \u001b[0mmeses\u001b[0m\u001b[0;34m[\u001b[0m\u001b[0mnome_mes\u001b[0m\u001b[0;34m]\u001b[0m\u001b[0;34m\u001b[0m\u001b[0;34m\u001b[0m\u001b[0m\n",
            "\u001b[0;32m/usr/lib/python3.7/pathlib.py\u001b[0m in \u001b[0;36miterdir\u001b[0;34m(self)\u001b[0m\n\u001b[1;32m   1105\u001b[0m         \u001b[0;32mif\u001b[0m \u001b[0mself\u001b[0m\u001b[0;34m.\u001b[0m\u001b[0m_closed\u001b[0m\u001b[0;34m:\u001b[0m\u001b[0;34m\u001b[0m\u001b[0;34m\u001b[0m\u001b[0m\n\u001b[1;32m   1106\u001b[0m             \u001b[0mself\u001b[0m\u001b[0;34m.\u001b[0m\u001b[0m_raise_closed\u001b[0m\u001b[0;34m(\u001b[0m\u001b[0;34m)\u001b[0m\u001b[0;34m\u001b[0m\u001b[0;34m\u001b[0m\u001b[0m\n\u001b[0;32m-> 1107\u001b[0;31m         \u001b[0;32mfor\u001b[0m \u001b[0mname\u001b[0m \u001b[0;32min\u001b[0m \u001b[0mself\u001b[0m\u001b[0;34m.\u001b[0m\u001b[0m_accessor\u001b[0m\u001b[0;34m.\u001b[0m\u001b[0mlistdir\u001b[0m\u001b[0;34m(\u001b[0m\u001b[0mself\u001b[0m\u001b[0;34m)\u001b[0m\u001b[0;34m:\u001b[0m\u001b[0;34m\u001b[0m\u001b[0;34m\u001b[0m\u001b[0m\n\u001b[0m\u001b[1;32m   1108\u001b[0m             \u001b[0;32mif\u001b[0m \u001b[0mname\u001b[0m \u001b[0;32min\u001b[0m \u001b[0;34m{\u001b[0m\u001b[0;34m'.'\u001b[0m\u001b[0;34m,\u001b[0m \u001b[0;34m'..'\u001b[0m\u001b[0;34m}\u001b[0m\u001b[0;34m:\u001b[0m\u001b[0;34m\u001b[0m\u001b[0;34m\u001b[0m\u001b[0m\n\u001b[1;32m   1109\u001b[0m                 \u001b[0;31m# Yielding a path object for these makes little sense\u001b[0m\u001b[0;34m\u001b[0m\u001b[0;34m\u001b[0m\u001b[0;34m\u001b[0m\u001b[0m\n",
            "\u001b[0;31mFileNotFoundError\u001b[0m: [Errno 2] No such file or directory: 'dataset'"
          ]
        }
      ]
    },
    {
      "cell_type": "markdown",
      "metadata": {
        "id": "6CVGUOR6rzt8"
      },
      "source": [
        "-Como temos muitas colunas, nosso modelo pode acabar ficando muito lento\n",
        "-Além disso, uma análise rapida permite ver que várias colunas não são necessárias para nosso modelo de previsão, por isso vamos excluir algumas colunas da nossa base.\n",
        "-Tipos de colunas que vamos excluir:\n",
        "    1.IDs, Links e informações não relevantes para o modelo.\n",
        "    2.Colunas repetidas ou extremamente parecidas com outras (que dão a mesma informação. Ex. data vs ano/mes)\n",
        "    3.Colunas preenchidas com texto livre. Não rodaremos análise de palavras ou nada do tipo\n",
        "    4.Colunas em que todos ou quase todos os valores são iguais\n",
        "    5.\n",
        "-Para isso, vamos criar um arquivo no excel com os 1000 primeiros registros e fazer uma análise qualitativa"
      ]
    },
    {
      "cell_type": "code",
      "metadata": {
        "id": "VqMBZCgOrzt9",
        "outputId": "f625276d-0d44-462a-e30d-b0c88bbfb04c"
      },
      "source": [
        "print(base_airbnb['experiences_offered'].value_counts())\n",
        "print((base_airbnb['neighbourhood'] == base_airbnb['neighbourhood_cleansed']).value_counts())\n",
        "\n"
      ],
      "execution_count": null,
      "outputs": [
        {
          "name": "stdout",
          "output_type": "stream",
          "text": [
            "none    902210\n",
            "Name: experiences_offered, dtype: int64\n",
            "True     754027\n",
            "False    148183\n",
            "dtype: int64\n"
          ]
        }
      ]
    },
    {
      "cell_type": "code",
      "metadata": {
        "id": "yMB2O5pgrzt-",
        "outputId": "8cf039f1-5dba-4fb3-a483-6d8ae3c81c63"
      },
      "source": [
        "print(base_airbnb['square_feet'].isnull().sum())"
      ],
      "execution_count": null,
      "outputs": [
        {
          "name": "stdout",
          "output_type": "stream",
          "text": [
            "888162\n"
          ]
        }
      ]
    },
    {
      "cell_type": "code",
      "metadata": {
        "id": "H00W-mgWrzt-",
        "outputId": "ae599dce-2419-4a59-eb33-c3ab4297f076"
      },
      "source": [
        "print(list(base_airbnb.columns))\n",
        "base_airbnb.head(1000).to_csv('primeiros-registros.csv', sep=';')"
      ],
      "execution_count": null,
      "outputs": [
        {
          "name": "stdout",
          "output_type": "stream",
          "text": [
            "['id', 'listing_url', 'scrape_id', 'last_scraped', 'name', 'summary', 'space', 'description', 'experiences_offered', 'neighborhood_overview', 'notes', 'transit', 'access', 'interaction', 'house_rules', 'thumbnail_url', 'medium_url', 'picture_url', 'xl_picture_url', 'host_id', 'host_url', 'host_name', 'host_since', 'host_location', 'host_about', 'host_response_time', 'host_response_rate', 'host_acceptance_rate', 'host_is_superhost', 'host_thumbnail_url', 'host_picture_url', 'host_neighbourhood', 'host_listings_count', 'host_total_listings_count', 'host_verifications', 'host_has_profile_pic', 'host_identity_verified', 'street', 'neighbourhood', 'neighbourhood_cleansed', 'neighbourhood_group_cleansed', 'city', 'state', 'zipcode', 'market', 'smart_location', 'country_code', 'country', 'latitude', 'longitude', 'is_location_exact', 'property_type', 'room_type', 'accommodates', 'bathrooms', 'bedrooms', 'beds', 'bed_type', 'amenities', 'square_feet', 'price', 'weekly_price', 'monthly_price', 'security_deposit', 'cleaning_fee', 'guests_included', 'extra_people', 'minimum_nights', 'maximum_nights', 'calendar_updated', 'has_availability', 'availability_30', 'availability_60', 'availability_90', 'availability_365', 'calendar_last_scraped', 'number_of_reviews', 'first_review', 'last_review', 'review_scores_rating', 'review_scores_accuracy', 'review_scores_cleanliness', 'review_scores_checkin', 'review_scores_communication', 'review_scores_location', 'review_scores_value', 'requires_license', 'license', 'jurisdiction_names', 'instant_bookable', 'is_business_travel_ready', 'cancellation_policy', 'require_guest_profile_picture', 'require_guest_phone_verification', 'calculated_host_listings_count', 'reviews_per_month', 'ano', 'mes', 'minimum_minimum_nights', 'maximum_minimum_nights', 'minimum_maximum_nights', 'maximum_maximum_nights', 'minimum_nights_avg_ntm', 'maximum_nights_avg_ntm', 'number_of_reviews_ltm', 'calculated_host_listings_count_entire_homes', 'calculated_host_listings_count_private_rooms', 'calculated_host_listings_count_shared_rooms']\n"
          ]
        }
      ]
    },
    {
      "cell_type": "markdown",
      "metadata": {
        "id": "ZQWIX5rWrzt_"
      },
      "source": [
        "<h3> Depois da análise qualitativa das colunas, levando em cont os critérios explicados, ficamos com as seguintes colunas: </h3>"
      ]
    },
    {
      "cell_type": "code",
      "metadata": {
        "id": "NLEc0VJlrzt_",
        "outputId": "3e3b5a71-dfd7-4b4e-e049-350ee6227404"
      },
      "source": [
        "colunas = ['house_rules','host_response_time','host_response_rate','host_acceptance_rate','host_is_superhost','host_listings_count','latitude','longitude','is_location_exact','property_type','room_type','accommodates','bathrooms','bedrooms','beds','bed_type','amenities','square_feet','price','security_deposit','cleaning_fee','guests_included','extra_people','minimum_nights','maximum_nights','number_of_reviews','review_scores_rating','review_scores_accuracy','review_scores_cleanliness','review_scores_checkin','review_scores_communication','review_scores_location','review_scores_value','instant_bookable','is_business_travel_ready','cancellation_policy','ano','mes']\n",
        "base_airbnb = base_airbnb.loc[:, colunas]\n",
        "\n",
        "display(base_airbnb)"
      ],
      "execution_count": null,
      "outputs": [
        {
          "data": {
            "text/html": [
              "<div>\n",
              "<style scoped>\n",
              "    .dataframe tbody tr th:only-of-type {\n",
              "        vertical-align: middle;\n",
              "    }\n",
              "\n",
              "    .dataframe tbody tr th {\n",
              "        vertical-align: top;\n",
              "    }\n",
              "\n",
              "    .dataframe thead th {\n",
              "        text-align: right;\n",
              "    }\n",
              "</style>\n",
              "<table border=\"1\" class=\"dataframe\">\n",
              "  <thead>\n",
              "    <tr style=\"text-align: right;\">\n",
              "      <th></th>\n",
              "      <th>house_rules</th>\n",
              "      <th>host_response_time</th>\n",
              "      <th>host_response_rate</th>\n",
              "      <th>host_acceptance_rate</th>\n",
              "      <th>host_is_superhost</th>\n",
              "      <th>host_listings_count</th>\n",
              "      <th>latitude</th>\n",
              "      <th>longitude</th>\n",
              "      <th>is_location_exact</th>\n",
              "      <th>property_type</th>\n",
              "      <th>...</th>\n",
              "      <th>review_scores_cleanliness</th>\n",
              "      <th>review_scores_checkin</th>\n",
              "      <th>review_scores_communication</th>\n",
              "      <th>review_scores_location</th>\n",
              "      <th>review_scores_value</th>\n",
              "      <th>instant_bookable</th>\n",
              "      <th>is_business_travel_ready</th>\n",
              "      <th>cancellation_policy</th>\n",
              "      <th>ano</th>\n",
              "      <th>mes</th>\n",
              "    </tr>\n",
              "  </thead>\n",
              "  <tbody>\n",
              "    <tr>\n",
              "      <th>0</th>\n",
              "      <td>strictly no smoking in the apartment ! We want...</td>\n",
              "      <td>NaN</td>\n",
              "      <td>NaN</td>\n",
              "      <td>NaN</td>\n",
              "      <td>f</td>\n",
              "      <td>1.0</td>\n",
              "      <td>-22.946854</td>\n",
              "      <td>-43.182737</td>\n",
              "      <td>t</td>\n",
              "      <td>Apartment</td>\n",
              "      <td>...</td>\n",
              "      <td>9.0</td>\n",
              "      <td>9.0</td>\n",
              "      <td>9.0</td>\n",
              "      <td>9.0</td>\n",
              "      <td>9.0</td>\n",
              "      <td>f</td>\n",
              "      <td>f</td>\n",
              "      <td>strict_14_with_grace_period</td>\n",
              "      <td>2018</td>\n",
              "      <td>4</td>\n",
              "    </tr>\n",
              "    <tr>\n",
              "      <th>1</th>\n",
              "      <td>Please leave the apartment in a clean fashion ...</td>\n",
              "      <td>within an hour</td>\n",
              "      <td>100%</td>\n",
              "      <td>NaN</td>\n",
              "      <td>t</td>\n",
              "      <td>2.0</td>\n",
              "      <td>-22.965919</td>\n",
              "      <td>-43.178962</td>\n",
              "      <td>t</td>\n",
              "      <td>Condominium</td>\n",
              "      <td>...</td>\n",
              "      <td>9.0</td>\n",
              "      <td>10.0</td>\n",
              "      <td>10.0</td>\n",
              "      <td>9.0</td>\n",
              "      <td>9.0</td>\n",
              "      <td>t</td>\n",
              "      <td>f</td>\n",
              "      <td>strict</td>\n",
              "      <td>2018</td>\n",
              "      <td>4</td>\n",
              "    </tr>\n",
              "    <tr>\n",
              "      <th>2</th>\n",
              "      <td>Please remove sand when you come from the beac...</td>\n",
              "      <td>within an hour</td>\n",
              "      <td>100%</td>\n",
              "      <td>NaN</td>\n",
              "      <td>f</td>\n",
              "      <td>1.0</td>\n",
              "      <td>-22.985698</td>\n",
              "      <td>-43.201935</td>\n",
              "      <td>t</td>\n",
              "      <td>Apartment</td>\n",
              "      <td>...</td>\n",
              "      <td>10.0</td>\n",
              "      <td>10.0</td>\n",
              "      <td>10.0</td>\n",
              "      <td>10.0</td>\n",
              "      <td>9.0</td>\n",
              "      <td>f</td>\n",
              "      <td>f</td>\n",
              "      <td>strict</td>\n",
              "      <td>2018</td>\n",
              "      <td>4</td>\n",
              "    </tr>\n",
              "    <tr>\n",
              "      <th>3</th>\n",
              "      <td>Smoking outside only. Family building so pleas...</td>\n",
              "      <td>within an hour</td>\n",
              "      <td>100%</td>\n",
              "      <td>NaN</td>\n",
              "      <td>f</td>\n",
              "      <td>3.0</td>\n",
              "      <td>-22.977117</td>\n",
              "      <td>-43.190454</td>\n",
              "      <td>t</td>\n",
              "      <td>Apartment</td>\n",
              "      <td>...</td>\n",
              "      <td>10.0</td>\n",
              "      <td>10.0</td>\n",
              "      <td>10.0</td>\n",
              "      <td>10.0</td>\n",
              "      <td>9.0</td>\n",
              "      <td>f</td>\n",
              "      <td>f</td>\n",
              "      <td>strict</td>\n",
              "      <td>2018</td>\n",
              "      <td>4</td>\n",
              "    </tr>\n",
              "    <tr>\n",
              "      <th>4</th>\n",
              "      <td>So far, I haven't had any problems with guests...</td>\n",
              "      <td>within an hour</td>\n",
              "      <td>100%</td>\n",
              "      <td>NaN</td>\n",
              "      <td>t</td>\n",
              "      <td>1.0</td>\n",
              "      <td>-22.983024</td>\n",
              "      <td>-43.214270</td>\n",
              "      <td>t</td>\n",
              "      <td>Apartment</td>\n",
              "      <td>...</td>\n",
              "      <td>10.0</td>\n",
              "      <td>10.0</td>\n",
              "      <td>10.0</td>\n",
              "      <td>10.0</td>\n",
              "      <td>9.0</td>\n",
              "      <td>t</td>\n",
              "      <td>f</td>\n",
              "      <td>strict</td>\n",
              "      <td>2018</td>\n",
              "      <td>4</td>\n",
              "    </tr>\n",
              "    <tr>\n",
              "      <th>...</th>\n",
              "      <td>...</td>\n",
              "      <td>...</td>\n",
              "      <td>...</td>\n",
              "      <td>...</td>\n",
              "      <td>...</td>\n",
              "      <td>...</td>\n",
              "      <td>...</td>\n",
              "      <td>...</td>\n",
              "      <td>...</td>\n",
              "      <td>...</td>\n",
              "      <td>...</td>\n",
              "      <td>...</td>\n",
              "      <td>...</td>\n",
              "      <td>...</td>\n",
              "      <td>...</td>\n",
              "      <td>...</td>\n",
              "      <td>...</td>\n",
              "      <td>...</td>\n",
              "      <td>...</td>\n",
              "      <td>...</td>\n",
              "      <td>...</td>\n",
              "    </tr>\n",
              "    <tr>\n",
              "      <th>34324</th>\n",
              "      <td>NaN</td>\n",
              "      <td>within an hour</td>\n",
              "      <td>93%</td>\n",
              "      <td>NaN</td>\n",
              "      <td>f</td>\n",
              "      <td>0.0</td>\n",
              "      <td>-23.003180</td>\n",
              "      <td>-43.342840</td>\n",
              "      <td>f</td>\n",
              "      <td>Apartment</td>\n",
              "      <td>...</td>\n",
              "      <td>NaN</td>\n",
              "      <td>NaN</td>\n",
              "      <td>NaN</td>\n",
              "      <td>NaN</td>\n",
              "      <td>NaN</td>\n",
              "      <td>f</td>\n",
              "      <td>f</td>\n",
              "      <td>flexible</td>\n",
              "      <td>2019</td>\n",
              "      <td>9</td>\n",
              "    </tr>\n",
              "    <tr>\n",
              "      <th>34325</th>\n",
              "      <td>NaN</td>\n",
              "      <td>NaN</td>\n",
              "      <td>NaN</td>\n",
              "      <td>NaN</td>\n",
              "      <td>f</td>\n",
              "      <td>0.0</td>\n",
              "      <td>-22.966640</td>\n",
              "      <td>-43.393450</td>\n",
              "      <td>t</td>\n",
              "      <td>Apartment</td>\n",
              "      <td>...</td>\n",
              "      <td>NaN</td>\n",
              "      <td>NaN</td>\n",
              "      <td>NaN</td>\n",
              "      <td>NaN</td>\n",
              "      <td>NaN</td>\n",
              "      <td>f</td>\n",
              "      <td>f</td>\n",
              "      <td>flexible</td>\n",
              "      <td>2019</td>\n",
              "      <td>9</td>\n",
              "    </tr>\n",
              "    <tr>\n",
              "      <th>34326</th>\n",
              "      <td>Tudo dentro do bom senso! Deixar o apartamento...</td>\n",
              "      <td>within a few hours</td>\n",
              "      <td>74%</td>\n",
              "      <td>NaN</td>\n",
              "      <td>f</td>\n",
              "      <td>32.0</td>\n",
              "      <td>-22.962080</td>\n",
              "      <td>-43.175520</td>\n",
              "      <td>t</td>\n",
              "      <td>Apartment</td>\n",
              "      <td>...</td>\n",
              "      <td>NaN</td>\n",
              "      <td>NaN</td>\n",
              "      <td>NaN</td>\n",
              "      <td>NaN</td>\n",
              "      <td>NaN</td>\n",
              "      <td>f</td>\n",
              "      <td>f</td>\n",
              "      <td>strict_14_with_grace_period</td>\n",
              "      <td>2019</td>\n",
              "      <td>9</td>\n",
              "    </tr>\n",
              "    <tr>\n",
              "      <th>34327</th>\n",
              "      <td>Permitido fumar somente na area externa</td>\n",
              "      <td>NaN</td>\n",
              "      <td>NaN</td>\n",
              "      <td>NaN</td>\n",
              "      <td>f</td>\n",
              "      <td>0.0</td>\n",
              "      <td>-23.003400</td>\n",
              "      <td>-43.341820</td>\n",
              "      <td>t</td>\n",
              "      <td>Apartment</td>\n",
              "      <td>...</td>\n",
              "      <td>NaN</td>\n",
              "      <td>NaN</td>\n",
              "      <td>NaN</td>\n",
              "      <td>NaN</td>\n",
              "      <td>NaN</td>\n",
              "      <td>f</td>\n",
              "      <td>f</td>\n",
              "      <td>strict_14_with_grace_period</td>\n",
              "      <td>2019</td>\n",
              "      <td>9</td>\n",
              "    </tr>\n",
              "    <tr>\n",
              "      <th>34328</th>\n",
              "      <td>NaN</td>\n",
              "      <td>a few days or more</td>\n",
              "      <td>38%</td>\n",
              "      <td>NaN</td>\n",
              "      <td>f</td>\n",
              "      <td>5.0</td>\n",
              "      <td>-23.010560</td>\n",
              "      <td>-43.363350</td>\n",
              "      <td>t</td>\n",
              "      <td>Apartment</td>\n",
              "      <td>...</td>\n",
              "      <td>NaN</td>\n",
              "      <td>NaN</td>\n",
              "      <td>NaN</td>\n",
              "      <td>NaN</td>\n",
              "      <td>NaN</td>\n",
              "      <td>f</td>\n",
              "      <td>f</td>\n",
              "      <td>strict_14_with_grace_period</td>\n",
              "      <td>2019</td>\n",
              "      <td>9</td>\n",
              "    </tr>\n",
              "  </tbody>\n",
              "</table>\n",
              "<p>902210 rows × 38 columns</p>\n",
              "</div>"
            ],
            "text/plain": [
              "                                             house_rules  host_response_time  \\\n",
              "0      strictly no smoking in the apartment ! We want...                 NaN   \n",
              "1      Please leave the apartment in a clean fashion ...      within an hour   \n",
              "2      Please remove sand when you come from the beac...      within an hour   \n",
              "3      Smoking outside only. Family building so pleas...      within an hour   \n",
              "4      So far, I haven't had any problems with guests...      within an hour   \n",
              "...                                                  ...                 ...   \n",
              "34324                                                NaN      within an hour   \n",
              "34325                                                NaN                 NaN   \n",
              "34326  Tudo dentro do bom senso! Deixar o apartamento...  within a few hours   \n",
              "34327            Permitido fumar somente na area externa                 NaN   \n",
              "34328                                                NaN  a few days or more   \n",
              "\n",
              "      host_response_rate host_acceptance_rate host_is_superhost  \\\n",
              "0                    NaN                  NaN                 f   \n",
              "1                   100%                  NaN                 t   \n",
              "2                   100%                  NaN                 f   \n",
              "3                   100%                  NaN                 f   \n",
              "4                   100%                  NaN                 t   \n",
              "...                  ...                  ...               ...   \n",
              "34324                93%                  NaN                 f   \n",
              "34325                NaN                  NaN                 f   \n",
              "34326                74%                  NaN                 f   \n",
              "34327                NaN                  NaN                 f   \n",
              "34328                38%                  NaN                 f   \n",
              "\n",
              "       host_listings_count   latitude  longitude is_location_exact  \\\n",
              "0                      1.0 -22.946854 -43.182737                 t   \n",
              "1                      2.0 -22.965919 -43.178962                 t   \n",
              "2                      1.0 -22.985698 -43.201935                 t   \n",
              "3                      3.0 -22.977117 -43.190454                 t   \n",
              "4                      1.0 -22.983024 -43.214270                 t   \n",
              "...                    ...        ...        ...               ...   \n",
              "34324                  0.0 -23.003180 -43.342840                 f   \n",
              "34325                  0.0 -22.966640 -43.393450                 t   \n",
              "34326                 32.0 -22.962080 -43.175520                 t   \n",
              "34327                  0.0 -23.003400 -43.341820                 t   \n",
              "34328                  5.0 -23.010560 -43.363350                 t   \n",
              "\n",
              "      property_type  ... review_scores_cleanliness  review_scores_checkin  \\\n",
              "0         Apartment  ...                       9.0                    9.0   \n",
              "1       Condominium  ...                       9.0                   10.0   \n",
              "2         Apartment  ...                      10.0                   10.0   \n",
              "3         Apartment  ...                      10.0                   10.0   \n",
              "4         Apartment  ...                      10.0                   10.0   \n",
              "...             ...  ...                       ...                    ...   \n",
              "34324     Apartment  ...                       NaN                    NaN   \n",
              "34325     Apartment  ...                       NaN                    NaN   \n",
              "34326     Apartment  ...                       NaN                    NaN   \n",
              "34327     Apartment  ...                       NaN                    NaN   \n",
              "34328     Apartment  ...                       NaN                    NaN   \n",
              "\n",
              "       review_scores_communication  review_scores_location  \\\n",
              "0                              9.0                     9.0   \n",
              "1                             10.0                     9.0   \n",
              "2                             10.0                    10.0   \n",
              "3                             10.0                    10.0   \n",
              "4                             10.0                    10.0   \n",
              "...                            ...                     ...   \n",
              "34324                          NaN                     NaN   \n",
              "34325                          NaN                     NaN   \n",
              "34326                          NaN                     NaN   \n",
              "34327                          NaN                     NaN   \n",
              "34328                          NaN                     NaN   \n",
              "\n",
              "       review_scores_value instant_bookable is_business_travel_ready  \\\n",
              "0                      9.0                f                        f   \n",
              "1                      9.0                t                        f   \n",
              "2                      9.0                f                        f   \n",
              "3                      9.0                f                        f   \n",
              "4                      9.0                t                        f   \n",
              "...                    ...              ...                      ...   \n",
              "34324                  NaN                f                        f   \n",
              "34325                  NaN                f                        f   \n",
              "34326                  NaN                f                        f   \n",
              "34327                  NaN                f                        f   \n",
              "34328                  NaN                f                        f   \n",
              "\n",
              "               cancellation_policy   ano mes  \n",
              "0      strict_14_with_grace_period  2018   4  \n",
              "1                           strict  2018   4  \n",
              "2                           strict  2018   4  \n",
              "3                           strict  2018   4  \n",
              "4                           strict  2018   4  \n",
              "...                            ...   ...  ..  \n",
              "34324                     flexible  2019   9  \n",
              "34325                     flexible  2019   9  \n",
              "34326  strict_14_with_grace_period  2019   9  \n",
              "34327  strict_14_with_grace_period  2019   9  \n",
              "34328  strict_14_with_grace_period  2019   9  \n",
              "\n",
              "[902210 rows x 38 columns]"
            ]
          },
          "metadata": {},
          "output_type": "display_data"
        }
      ]
    },
    {
      "cell_type": "markdown",
      "metadata": {
        "id": "07SsZpzQrzuA"
      },
      "source": [
        "### Tratar Valores Faltando\n",
        "-Visualizando os dados percebemos que há uma grande disparidade de dados faltantes. As colunas com mais de 300.000 valores Nan foram excluídas da análise.\n",
        "-Para as outras colunas, como temos muitos dados (mais de 900.000 linhas) vamos excluir as linhas que contém dados Nan."
      ]
    },
    {
      "cell_type": "code",
      "metadata": {
        "id": "RyHOr7QlrzuA",
        "outputId": "ddce8bc3-7ae3-418f-b998-453bc982c888"
      },
      "source": [
        "print(base_airbnb.isnull().sum())\n",
        "for coluna in base_airbnb:\n",
        "    if base_airbnb[coluna].isnull().sum() > 300000:\n",
        "        base_airbnb.drop(coluna, axis=1, inplace=True)\n",
        "        print(f'Coluna {coluna} excluida')"
      ],
      "execution_count": null,
      "outputs": [
        {
          "name": "stdout",
          "output_type": "stream",
          "text": [
            "house_rules                    444397\n",
            "host_response_time             401843\n",
            "host_response_rate             401846\n",
            "host_acceptance_rate           807468\n",
            "host_is_superhost                 460\n",
            "host_listings_count               460\n",
            "latitude                            0\n",
            "longitude                           0\n",
            "is_location_exact                   0\n",
            "property_type                       0\n",
            "room_type                           0\n",
            "accommodates                        0\n",
            "bathrooms                        1724\n",
            "bedrooms                          850\n",
            "beds                             2502\n",
            "bed_type                            0\n",
            "amenities                           0\n",
            "square_feet                    888162\n",
            "price                               0\n",
            "security_deposit               421280\n",
            "cleaning_fee                   313506\n",
            "guests_included                     0\n",
            "extra_people                        0\n",
            "minimum_nights                      0\n",
            "maximum_nights                      0\n",
            "number_of_reviews                   0\n",
            "review_scores_rating           448016\n",
            "review_scores_accuracy         448586\n",
            "review_scores_cleanliness      448413\n",
            "review_scores_checkin          448650\n",
            "review_scores_communication    448415\n",
            "review_scores_location         448553\n",
            "review_scores_value            448551\n",
            "instant_bookable                    0\n",
            "is_business_travel_ready            0\n",
            "cancellation_policy                 0\n",
            "ano                                 0\n",
            "mes                                 0\n",
            "dtype: int64\n",
            "Coluna house_rules excluida\n",
            "Coluna host_response_time excluida\n",
            "Coluna host_response_rate excluida\n",
            "Coluna host_acceptance_rate excluida\n",
            "Coluna square_feet excluida\n",
            "Coluna security_deposit excluida\n",
            "Coluna cleaning_fee excluida\n",
            "Coluna review_scores_rating excluida\n",
            "Coluna review_scores_accuracy excluida\n",
            "Coluna review_scores_cleanliness excluida\n",
            "Coluna review_scores_checkin excluida\n",
            "Coluna review_scores_communication excluida\n",
            "Coluna review_scores_location excluida\n",
            "Coluna review_scores_value excluida\n"
          ]
        }
      ]
    },
    {
      "cell_type": "code",
      "metadata": {
        "id": "D9vjBr_ErzuB",
        "outputId": "cabc8310-2efd-4bd6-d5bc-29e2786b756e"
      },
      "source": [
        "base_airbnb.drop('is_location_exact', axis=1, inplace=True)\n",
        "base_airbnb.dropna(inplace=True) #excluindo os valores Nan\n",
        "print(base_airbnb.isnull().sum())\n",
        "print(base_airbnb.shape)"
      ],
      "execution_count": null,
      "outputs": [
        {
          "name": "stdout",
          "output_type": "stream",
          "text": [
            "host_is_superhost           0\n",
            "host_listings_count         0\n",
            "latitude                    0\n",
            "longitude                   0\n",
            "property_type               0\n",
            "room_type                   0\n",
            "accommodates                0\n",
            "bathrooms                   0\n",
            "bedrooms                    0\n",
            "beds                        0\n",
            "bed_type                    0\n",
            "amenities                   0\n",
            "price                       0\n",
            "guests_included             0\n",
            "extra_people                0\n",
            "minimum_nights              0\n",
            "maximum_nights              0\n",
            "number_of_reviews           0\n",
            "instant_bookable            0\n",
            "is_business_travel_ready    0\n",
            "cancellation_policy         0\n",
            "ano                         0\n",
            "mes                         0\n",
            "dtype: int64\n",
            "(897709, 23)\n"
          ]
        }
      ]
    },
    {
      "cell_type": "markdown",
      "metadata": {
        "id": "bV4zO50qrzuC"
      },
      "source": [
        "### Verificar Tipos de Dados em cada coluna"
      ]
    },
    {
      "cell_type": "code",
      "metadata": {
        "id": "ON3U5RULrzuC",
        "outputId": "ff0a1513-ae2a-4874-8047-5713c15cb174"
      },
      "source": [
        "print(type(base_airbnb))\n",
        "print(base_airbnb.dtypes)\n",
        "print('-' * 60)\n",
        "print(base_airbnb.iloc[0])"
      ],
      "execution_count": null,
      "outputs": [
        {
          "name": "stdout",
          "output_type": "stream",
          "text": [
            "<class 'pandas.core.frame.DataFrame'>\n",
            "host_is_superhost            object\n",
            "host_listings_count         float64\n",
            "latitude                    float64\n",
            "longitude                   float64\n",
            "property_type                object\n",
            "room_type                    object\n",
            "accommodates                  int64\n",
            "bathrooms                   float64\n",
            "bedrooms                    float64\n",
            "beds                        float64\n",
            "bed_type                     object\n",
            "amenities                    object\n",
            "price                        object\n",
            "guests_included               int64\n",
            "extra_people                 object\n",
            "minimum_nights                int64\n",
            "maximum_nights                int64\n",
            "number_of_reviews             int64\n",
            "instant_bookable             object\n",
            "is_business_travel_ready     object\n",
            "cancellation_policy          object\n",
            "ano                          object\n",
            "mes                           int64\n",
            "dtype: object\n",
            "------------------------------------------------------------\n",
            "host_is_superhost                                                           f\n",
            "host_listings_count                                                       1.0\n",
            "latitude                                                           -22.946854\n",
            "longitude                                                          -43.182737\n",
            "property_type                                                       Apartment\n",
            "room_type                                                     Entire home/apt\n",
            "accommodates                                                                4\n",
            "bathrooms                                                                 1.0\n",
            "bedrooms                                                                  0.0\n",
            "beds                                                                      2.0\n",
            "bed_type                                                             Real Bed\n",
            "amenities                   {TV,Internet,\"Air conditioning\",Kitchen,Doorma...\n",
            "price                                                                 $133.00\n",
            "guests_included                                                             2\n",
            "extra_people                                                           $34.00\n",
            "minimum_nights                                                             60\n",
            "maximum_nights                                                            365\n",
            "number_of_reviews                                                          38\n",
            "instant_bookable                                                            f\n",
            "is_business_travel_ready                                                    f\n",
            "cancellation_policy                               strict_14_with_grace_period\n",
            "ano                                                                      2018\n",
            "mes                                                                         4\n",
            "Name: 0, dtype: object\n"
          ]
        }
      ]
    },
    {
      "cell_type": "markdown",
      "metadata": {
        "id": "MR-1_aqSrzuD"
      },
      "source": [
        "-Como preço e extra people estão sendo reconhecidos como objeto (ao invés de ser um float) temos que mudar o tipo da varável da coluna."
      ]
    },
    {
      "cell_type": "code",
      "metadata": {
        "id": "wTgXZLY0rzuD",
        "outputId": "f64657c8-0d52-42cd-8784-c34429e3abbb"
      },
      "source": [
        "base_airbnb['price'] = base_airbnb['price'].str.replace('$', '').str.replace(',', '')\n",
        "base_airbnb['price'] = base_airbnb['price'].astype(np.float32)\n",
        "base_airbnb['extra_people'] = base_airbnb['extra_people'].str.replace('$', '').str.replace(',', '')\n",
        "base_airbnb['extra_people'] = base_airbnb['extra_people'].astype(np.float32)\n",
        "print(base_airbnb.iloc[0])\n",
        "print(base_airbnb['price'].dtype)\n",
        "print(base_airbnb['extra_people'].dtype)\n",
        "print(base_airbnb.dtypes)"
      ],
      "execution_count": null,
      "outputs": [
        {
          "name": "stderr",
          "output_type": "stream",
          "text": [
            "C:\\Users\\vnsou\\AppData\\Local\\Temp/ipykernel_12920/1601259816.py:1: FutureWarning: The default value of regex will change from True to False in a future version. In addition, single character regular expressions will *not* be treated as literal strings when regex=True.\n",
            "  base_airbnb['price'] = base_airbnb['price'].str.replace('$', '').str.replace(',', '')\n",
            "C:\\Users\\vnsou\\AppData\\Local\\Temp/ipykernel_12920/1601259816.py:3: FutureWarning: The default value of regex will change from True to False in a future version. In addition, single character regular expressions will *not* be treated as literal strings when regex=True.\n",
            "  base_airbnb['extra_people'] = base_airbnb['extra_people'].str.replace('$', '').str.replace(',', '')\n"
          ]
        },
        {
          "name": "stdout",
          "output_type": "stream",
          "text": [
            "host_is_superhost                                                           f\n",
            "host_listings_count                                                       1.0\n",
            "latitude                                                           -22.946854\n",
            "longitude                                                          -43.182737\n",
            "property_type                                                       Apartment\n",
            "room_type                                                     Entire home/apt\n",
            "accommodates                                                                4\n",
            "bathrooms                                                                 1.0\n",
            "bedrooms                                                                  0.0\n",
            "beds                                                                      2.0\n",
            "bed_type                                                             Real Bed\n",
            "amenities                   {TV,Internet,\"Air conditioning\",Kitchen,Doorma...\n",
            "price                                                                   133.0\n",
            "guests_included                                                             2\n",
            "extra_people                                                             34.0\n",
            "minimum_nights                                                             60\n",
            "maximum_nights                                                            365\n",
            "number_of_reviews                                                          38\n",
            "instant_bookable                                                            f\n",
            "is_business_travel_ready                                                    f\n",
            "cancellation_policy                               strict_14_with_grace_period\n",
            "ano                                                                      2018\n",
            "mes                                                                         4\n",
            "Name: 0, dtype: object\n",
            "float32\n",
            "float32\n",
            "host_is_superhost            object\n",
            "host_listings_count         float64\n",
            "latitude                    float64\n",
            "longitude                   float64\n",
            "property_type                object\n",
            "room_type                    object\n",
            "accommodates                  int64\n",
            "bathrooms                   float64\n",
            "bedrooms                    float64\n",
            "beds                        float64\n",
            "bed_type                     object\n",
            "amenities                    object\n",
            "price                       float32\n",
            "guests_included               int64\n",
            "extra_people                float32\n",
            "minimum_nights                int64\n",
            "maximum_nights                int64\n",
            "number_of_reviews             int64\n",
            "instant_bookable             object\n",
            "is_business_travel_ready     object\n",
            "cancellation_policy          object\n",
            "ano                          object\n",
            "mes                           int64\n",
            "dtype: object\n"
          ]
        }
      ]
    },
    {
      "cell_type": "markdown",
      "metadata": {
        "id": "nK3NLDDhrzuE"
      },
      "source": [
        "### Análise Exploratória e Tratar Outliers\n",
        "\n",
        "\n",
        "- Vamos basicamente olhar feature por feature para:\n",
        "    1. Ver a correlação entre as features e decidir se manteremos todas as features que temos.\n",
        "    2. Excluir outliers (usaremos como regra, valores abaixo de Q1 - 1.5xAmplitude e valores acima de Q3 + 1.5x Amplitude). Amplitude = Q3 - Q1\n",
        "    3. Confirmar se todas as features que temos fazem realmente sentido para o nosso modelo ou se alguma delas não vai nos ajudar e se devemos excluir\n",
        "    \n",
        "- Vamos começar pelas colunas de preço (resultado final que queremos) e de extra_people (também valor monetário). Esses são os valores numéricos contínuos.\n",
        "\n",
        "- Depois vamos analisar as colunas de valores numéricos discretos (accomodates, bedrooms, guests_included, etc.)\n",
        "\n",
        "- Por fim, vamos avaliar as colunas de texto e definir quais categorias fazem sentido mantermos ou não.\n",
        "\n",
        "MAS CUIDADO: não saia excluindo direto outliers, pense exatamente no que você está fazendo. Se não tem um motivo claro para remover o outlier, talvez não seja necessário e pode ser prejudicial para a generalização. Então tem que ter uma balança ai. Claro que você sempre pode testar e ver qual dá o melhor resultado, mas fazer isso para todas as features vai dar muito trabalho.\n",
        "\n",
        "Ex de análise: Se o objetivo é ajudar a precificar um imóvel que você está querendo disponibilizar, excluir outliers em host_listings_count pode fazer sentido. Agora, se você é uma empresa com uma série de propriedades e quer comparar com outras empresas do tipo também e se posicionar dessa forma, talvez excluir quem tem acima de 6 propriedades tire isso do seu modelo. Pense sempre no seu objetivo"
      ]
    },
    {
      "cell_type": "code",
      "metadata": {
        "id": "sdXmHGf0rzuF",
        "outputId": "94b1de39-4a27-4ae2-90bb-7c40b8ba2bee"
      },
      "source": [
        "plt.figure(figsize=(15, 10))\n",
        "sns.heatmap(base_airbnb.corr(),annot=True,cmap='Blues')"
      ],
      "execution_count": null,
      "outputs": [
        {
          "data": {
            "text/plain": [
              "<AxesSubplot:>"
            ]
          },
          "execution_count": 16,
          "metadata": {},
          "output_type": "execute_result"
        },
        {
          "data": {
            "image/png": "[encoded data removed]",
            "text/plain": [
              "<Figure size 1080x720 with 2 Axes>"
            ]
          },
          "metadata": {
            "needs_background": "light"
          },
          "output_type": "display_data"
        }
      ]
    },
    {
      "cell_type": "markdown",
      "metadata": {
        "id": "yM7B1PWsrzuF"
      },
      "source": [
        "### Definição de funções para a Análise de Outliers\n",
        "-Vamos definir algumas funções para ajudar na análise de outliers nas colunas"
      ]
    },
    {
      "cell_type": "code",
      "metadata": {
        "id": "47Br3qGfrzuG",
        "outputId": "04cac142-0a56-41e1-84b9-8de71aab743b"
      },
      "source": [
        "def limites(coluna):\n",
        "    q1 = coluna.quantile(0.25)\n",
        "    q3 = coluna.quantile(0.75)\n",
        "    amplitude = q3 - q1\n",
        "    limite_inferior = q1 - 1.5 * amplitude\n",
        "    limite_superior = q3 + 1.5 * amplitude\n",
        "    return limite_inferior, limite_superior\n",
        "def excluir_outliers(df, nome_coluna):\n",
        "    qntde_linhas = df.shape[0]\n",
        "    limite_superior, limite_inferior = limites(df[nome_coluna])\n",
        "    df = df.loc[(df[nome_coluna] > limite_superior) & (df[nome_coluna] < limite_inferior), :]\n",
        "    linhas_removidas = qntde_linhas - df.shape[0]\n",
        "    return df, linhas_removidas\n",
        "'''def excluir_outliers(coluna):\n",
        "    limite_inferior, limite_superior = limites(coluna)\n",
        "    outliers = 0\n",
        "    for preco in coluna:\n",
        "        if preco > limite_superior or preco < limite_inferior :\n",
        "            outliers += 1\n",
        "    print(f'Foram detectados {outliers} outliers')'''"
      ],
      "execution_count": null,
      "outputs": [
        {
          "data": {
            "text/plain": [
              "\"def excluir_outliers(coluna):\\n    limite_inferior, limite_superior = limites(coluna)\\n    outliers = 0\\n    for preco in coluna:\\n        if preco > limite_superior or preco < limite_inferior :\\n            outliers += 1\\n    print(f'Foram detectados {outliers} outliers')\""
            ]
          },
          "execution_count": 17,
          "metadata": {},
          "output_type": "execute_result"
        }
      ]
    },
    {
      "cell_type": "code",
      "metadata": {
        "id": "9BMFFxrrrzuG"
      },
      "source": [
        "def diagrama_caixa(coluna):\n",
        "    fig, (ax1, ax2) = plt.subplots(1, 2)\n",
        "    fig.set_size_inches(15, 5)\n",
        "    sns.boxplot(x=coluna, ax=ax1)\n",
        "    ax2.set_xlim(limites(coluna))\n",
        "    sns.boxplot(x=coluna, ax=ax2)\n",
        "def histograma(coluna):\n",
        "    # plt.figure(figsize=(60, 15))\n",
        "    sns.displot(data=coluna, aspect=4, kde=True)\n",
        "def grafico_barra(coluna):\n",
        "    plt.figure(figsize=(15, 5))\n",
        "    ax = sns.barplot(x=coluna.value_counts().index, y=coluna.value_counts())\n",
        "    ax.set_xlim(limites(coluna))"
      ],
      "execution_count": null,
      "outputs": []
    },
    {
      "cell_type": "markdown",
      "metadata": {
        "id": "z_pQ3GT6rzuH"
      },
      "source": [
        "### Price"
      ]
    },
    {
      "cell_type": "code",
      "metadata": {
        "id": "xthBZzckrzuH",
        "outputId": "b9df192b-6ae2-48a2-8147-7876607fb03a"
      },
      "source": [
        "diagrama_caixa(base_airbnb['price'])\n",
        "histograma(base_airbnb['price'])"
      ],
      "execution_count": null,
      "outputs": [
        {
          "data": {
            "image/png": "[encoded data removed]",
            "text/plain": [
              "<Figure size 1080x360 with 2 Axes>"
            ]
          },
          "metadata": {
            "needs_background": "light"
          },
          "output_type": "display_data"
        },
        {
          "data": {
            "image/png": "[encoded data removed]",
            "text/plain": [
              "<Figure size 1440x360 with 1 Axes>"
            ]
          },
          "metadata": {
            "needs_background": "light"
          },
          "output_type": "display_data"
        }
      ]
    },
    {
      "cell_type": "markdown",
      "metadata": {
        "id": "Nqp8Hfv3rzuH"
      },
      "source": [
        "Como estamos contruindo um modelo para apartamentos comuns, acredito que os valores acima do limite superior serão apenas imóves de altíssimo luxo, que não é nosso objetivo principal. Por isso, podemos exlcluir esses outliers."
      ]
    },
    {
      "cell_type": "code",
      "metadata": {
        "id": "lV6W39ZwrzuI",
        "outputId": "5042b1ad-ff1c-4964-e745-719e93b06666"
      },
      "source": [
        "base_airbnb, linhas_removidas = excluir_outliers(base_airbnb, 'price')\n",
        "display(base_airbnb)\n",
        "print(linhas_removidas)\n",
        "histograma(base_airbnb['price'])"
      ],
      "execution_count": null,
      "outputs": [
        {
          "data": {
            "text/html": [
              "<div>\n",
              "<style scoped>\n",
              "    .dataframe tbody tr th:only-of-type {\n",
              "        vertical-align: middle;\n",
              "    }\n",
              "\n",
              "    .dataframe tbody tr th {\n",
              "        vertical-align: top;\n",
              "    }\n",
              "\n",
              "    .dataframe thead th {\n",
              "        text-align: right;\n",
              "    }\n",
              "</style>\n",
              "<table border=\"1\" class=\"dataframe\">\n",
              "  <thead>\n",
              "    <tr style=\"text-align: right;\">\n",
              "      <th></th>\n",
              "      <th>host_is_superhost</th>\n",
              "      <th>host_listings_count</th>\n",
              "      <th>latitude</th>\n",
              "      <th>longitude</th>\n",
              "      <th>property_type</th>\n",
              "      <th>room_type</th>\n",
              "      <th>accommodates</th>\n",
              "      <th>bathrooms</th>\n",
              "      <th>bedrooms</th>\n",
              "      <th>beds</th>\n",
              "      <th>...</th>\n",
              "      <th>guests_included</th>\n",
              "      <th>extra_people</th>\n",
              "      <th>minimum_nights</th>\n",
              "      <th>maximum_nights</th>\n",
              "      <th>number_of_reviews</th>\n",
              "      <th>instant_bookable</th>\n",
              "      <th>is_business_travel_ready</th>\n",
              "      <th>cancellation_policy</th>\n",
              "      <th>ano</th>\n",
              "      <th>mes</th>\n",
              "    </tr>\n",
              "  </thead>\n",
              "  <tbody>\n",
              "    <tr>\n",
              "      <th>0</th>\n",
              "      <td>f</td>\n",
              "      <td>1.0</td>\n",
              "      <td>-22.946854</td>\n",
              "      <td>-43.182737</td>\n",
              "      <td>Apartment</td>\n",
              "      <td>Entire home/apt</td>\n",
              "      <td>4</td>\n",
              "      <td>1.0</td>\n",
              "      <td>0.0</td>\n",
              "      <td>2.0</td>\n",
              "      <td>...</td>\n",
              "      <td>2</td>\n",
              "      <td>34.0</td>\n",
              "      <td>60</td>\n",
              "      <td>365</td>\n",
              "      <td>38</td>\n",
              "      <td>f</td>\n",
              "      <td>f</td>\n",
              "      <td>strict_14_with_grace_period</td>\n",
              "      <td>2018</td>\n",
              "      <td>4</td>\n",
              "    </tr>\n",
              "    <tr>\n",
              "      <th>1</th>\n",
              "      <td>t</td>\n",
              "      <td>2.0</td>\n",
              "      <td>-22.965919</td>\n",
              "      <td>-43.178962</td>\n",
              "      <td>Condominium</td>\n",
              "      <td>Entire home/apt</td>\n",
              "      <td>5</td>\n",
              "      <td>1.0</td>\n",
              "      <td>2.0</td>\n",
              "      <td>2.0</td>\n",
              "      <td>...</td>\n",
              "      <td>2</td>\n",
              "      <td>51.0</td>\n",
              "      <td>4</td>\n",
              "      <td>90</td>\n",
              "      <td>205</td>\n",
              "      <td>t</td>\n",
              "      <td>f</td>\n",
              "      <td>strict</td>\n",
              "      <td>2018</td>\n",
              "      <td>4</td>\n",
              "    </tr>\n",
              "    <tr>\n",
              "      <th>2</th>\n",
              "      <td>f</td>\n",
              "      <td>1.0</td>\n",
              "      <td>-22.985698</td>\n",
              "      <td>-43.201935</td>\n",
              "      <td>Apartment</td>\n",
              "      <td>Entire home/apt</td>\n",
              "      <td>2</td>\n",
              "      <td>1.0</td>\n",
              "      <td>1.0</td>\n",
              "      <td>1.0</td>\n",
              "      <td>...</td>\n",
              "      <td>2</td>\n",
              "      <td>215.0</td>\n",
              "      <td>3</td>\n",
              "      <td>90</td>\n",
              "      <td>85</td>\n",
              "      <td>f</td>\n",
              "      <td>f</td>\n",
              "      <td>strict</td>\n",
              "      <td>2018</td>\n",
              "      <td>4</td>\n",
              "    </tr>\n",
              "    <tr>\n",
              "      <th>3</th>\n",
              "      <td>f</td>\n",
              "      <td>3.0</td>\n",
              "      <td>-22.977117</td>\n",
              "      <td>-43.190454</td>\n",
              "      <td>Apartment</td>\n",
              "      <td>Entire home/apt</td>\n",
              "      <td>3</td>\n",
              "      <td>1.0</td>\n",
              "      <td>1.0</td>\n",
              "      <td>2.0</td>\n",
              "      <td>...</td>\n",
              "      <td>2</td>\n",
              "      <td>45.0</td>\n",
              "      <td>4</td>\n",
              "      <td>30</td>\n",
              "      <td>208</td>\n",
              "      <td>f</td>\n",
              "      <td>f</td>\n",
              "      <td>strict</td>\n",
              "      <td>2018</td>\n",
              "      <td>4</td>\n",
              "    </tr>\n",
              "    <tr>\n",
              "      <th>4</th>\n",
              "      <td>t</td>\n",
              "      <td>1.0</td>\n",
              "      <td>-22.983024</td>\n",
              "      <td>-43.214270</td>\n",
              "      <td>Apartment</td>\n",
              "      <td>Entire home/apt</td>\n",
              "      <td>3</td>\n",
              "      <td>1.0</td>\n",
              "      <td>1.0</td>\n",
              "      <td>2.0</td>\n",
              "      <td>...</td>\n",
              "      <td>2</td>\n",
              "      <td>68.0</td>\n",
              "      <td>2</td>\n",
              "      <td>1125</td>\n",
              "      <td>200</td>\n",
              "      <td>t</td>\n",
              "      <td>f</td>\n",
              "      <td>strict</td>\n",
              "      <td>2018</td>\n",
              "      <td>4</td>\n",
              "    </tr>\n",
              "    <tr>\n",
              "      <th>...</th>\n",
              "      <td>...</td>\n",
              "      <td>...</td>\n",
              "      <td>...</td>\n",
              "      <td>...</td>\n",
              "      <td>...</td>\n",
              "      <td>...</td>\n",
              "      <td>...</td>\n",
              "      <td>...</td>\n",
              "      <td>...</td>\n",
              "      <td>...</td>\n",
              "      <td>...</td>\n",
              "      <td>...</td>\n",
              "      <td>...</td>\n",
              "      <td>...</td>\n",
              "      <td>...</td>\n",
              "      <td>...</td>\n",
              "      <td>...</td>\n",
              "      <td>...</td>\n",
              "      <td>...</td>\n",
              "      <td>...</td>\n",
              "      <td>...</td>\n",
              "    </tr>\n",
              "    <tr>\n",
              "      <th>34324</th>\n",
              "      <td>f</td>\n",
              "      <td>0.0</td>\n",
              "      <td>-23.003180</td>\n",
              "      <td>-43.342840</td>\n",
              "      <td>Apartment</td>\n",
              "      <td>Entire home/apt</td>\n",
              "      <td>4</td>\n",
              "      <td>1.0</td>\n",
              "      <td>0.0</td>\n",
              "      <td>2.0</td>\n",
              "      <td>...</td>\n",
              "      <td>2</td>\n",
              "      <td>50.0</td>\n",
              "      <td>1</td>\n",
              "      <td>1125</td>\n",
              "      <td>0</td>\n",
              "      <td>f</td>\n",
              "      <td>f</td>\n",
              "      <td>flexible</td>\n",
              "      <td>2019</td>\n",
              "      <td>9</td>\n",
              "    </tr>\n",
              "    <tr>\n",
              "      <th>34325</th>\n",
              "      <td>f</td>\n",
              "      <td>0.0</td>\n",
              "      <td>-22.966640</td>\n",
              "      <td>-43.393450</td>\n",
              "      <td>Apartment</td>\n",
              "      <td>Entire home/apt</td>\n",
              "      <td>4</td>\n",
              "      <td>2.0</td>\n",
              "      <td>2.0</td>\n",
              "      <td>3.0</td>\n",
              "      <td>...</td>\n",
              "      <td>1</td>\n",
              "      <td>0.0</td>\n",
              "      <td>2</td>\n",
              "      <td>1125</td>\n",
              "      <td>0</td>\n",
              "      <td>f</td>\n",
              "      <td>f</td>\n",
              "      <td>flexible</td>\n",
              "      <td>2019</td>\n",
              "      <td>9</td>\n",
              "    </tr>\n",
              "    <tr>\n",
              "      <th>34326</th>\n",
              "      <td>f</td>\n",
              "      <td>32.0</td>\n",
              "      <td>-22.962080</td>\n",
              "      <td>-43.175520</td>\n",
              "      <td>Apartment</td>\n",
              "      <td>Entire home/apt</td>\n",
              "      <td>5</td>\n",
              "      <td>1.0</td>\n",
              "      <td>1.0</td>\n",
              "      <td>2.0</td>\n",
              "      <td>...</td>\n",
              "      <td>3</td>\n",
              "      <td>30.0</td>\n",
              "      <td>3</td>\n",
              "      <td>1125</td>\n",
              "      <td>0</td>\n",
              "      <td>f</td>\n",
              "      <td>f</td>\n",
              "      <td>strict_14_with_grace_period</td>\n",
              "      <td>2019</td>\n",
              "      <td>9</td>\n",
              "    </tr>\n",
              "    <tr>\n",
              "      <th>34327</th>\n",
              "      <td>f</td>\n",
              "      <td>0.0</td>\n",
              "      <td>-23.003400</td>\n",
              "      <td>-43.341820</td>\n",
              "      <td>Apartment</td>\n",
              "      <td>Entire home/apt</td>\n",
              "      <td>4</td>\n",
              "      <td>1.0</td>\n",
              "      <td>1.0</td>\n",
              "      <td>1.0</td>\n",
              "      <td>...</td>\n",
              "      <td>1</td>\n",
              "      <td>0.0</td>\n",
              "      <td>1</td>\n",
              "      <td>1125</td>\n",
              "      <td>0</td>\n",
              "      <td>f</td>\n",
              "      <td>f</td>\n",
              "      <td>strict_14_with_grace_period</td>\n",
              "      <td>2019</td>\n",
              "      <td>9</td>\n",
              "    </tr>\n",
              "    <tr>\n",
              "      <th>34328</th>\n",
              "      <td>f</td>\n",
              "      <td>5.0</td>\n",
              "      <td>-23.010560</td>\n",
              "      <td>-43.363350</td>\n",
              "      <td>Apartment</td>\n",
              "      <td>Private room</td>\n",
              "      <td>2</td>\n",
              "      <td>0.0</td>\n",
              "      <td>1.0</td>\n",
              "      <td>1.0</td>\n",
              "      <td>...</td>\n",
              "      <td>2</td>\n",
              "      <td>80.0</td>\n",
              "      <td>1</td>\n",
              "      <td>30</td>\n",
              "      <td>0</td>\n",
              "      <td>f</td>\n",
              "      <td>f</td>\n",
              "      <td>strict_14_with_grace_period</td>\n",
              "      <td>2019</td>\n",
              "      <td>9</td>\n",
              "    </tr>\n",
              "  </tbody>\n",
              "</table>\n",
              "<p>810421 rows × 23 columns</p>\n",
              "</div>"
            ],
            "text/plain": [
              "      host_is_superhost  host_listings_count   latitude  longitude  \\\n",
              "0                     f                  1.0 -22.946854 -43.182737   \n",
              "1                     t                  2.0 -22.965919 -43.178962   \n",
              "2                     f                  1.0 -22.985698 -43.201935   \n",
              "3                     f                  3.0 -22.977117 -43.190454   \n",
              "4                     t                  1.0 -22.983024 -43.214270   \n",
              "...                 ...                  ...        ...        ...   \n",
              "34324                 f                  0.0 -23.003180 -43.342840   \n",
              "34325                 f                  0.0 -22.966640 -43.393450   \n",
              "34326                 f                 32.0 -22.962080 -43.175520   \n",
              "34327                 f                  0.0 -23.003400 -43.341820   \n",
              "34328                 f                  5.0 -23.010560 -43.363350   \n",
              "\n",
              "      property_type        room_type  accommodates  bathrooms  bedrooms  beds  \\\n",
              "0         Apartment  Entire home/apt             4        1.0       0.0   2.0   \n",
              "1       Condominium  Entire home/apt             5        1.0       2.0   2.0   \n",
              "2         Apartment  Entire home/apt             2        1.0       1.0   1.0   \n",
              "3         Apartment  Entire home/apt             3        1.0       1.0   2.0   \n",
              "4         Apartment  Entire home/apt             3        1.0       1.0   2.0   \n",
              "...             ...              ...           ...        ...       ...   ...   \n",
              "34324     Apartment  Entire home/apt             4        1.0       0.0   2.0   \n",
              "34325     Apartment  Entire home/apt             4        2.0       2.0   3.0   \n",
              "34326     Apartment  Entire home/apt             5        1.0       1.0   2.0   \n",
              "34327     Apartment  Entire home/apt             4        1.0       1.0   1.0   \n",
              "34328     Apartment     Private room             2        0.0       1.0   1.0   \n",
              "\n",
              "       ... guests_included extra_people  minimum_nights  maximum_nights  \\\n",
              "0      ...               2         34.0              60             365   \n",
              "1      ...               2         51.0               4              90   \n",
              "2      ...               2        215.0               3              90   \n",
              "3      ...               2         45.0               4              30   \n",
              "4      ...               2         68.0               2            1125   \n",
              "...    ...             ...          ...             ...             ...   \n",
              "34324  ...               2         50.0               1            1125   \n",
              "34325  ...               1          0.0               2            1125   \n",
              "34326  ...               3         30.0               3            1125   \n",
              "34327  ...               1          0.0               1            1125   \n",
              "34328  ...               2         80.0               1              30   \n",
              "\n",
              "       number_of_reviews  instant_bookable  is_business_travel_ready  \\\n",
              "0                     38                 f                         f   \n",
              "1                    205                 t                         f   \n",
              "2                     85                 f                         f   \n",
              "3                    208                 f                         f   \n",
              "4                    200                 t                         f   \n",
              "...                  ...               ...                       ...   \n",
              "34324                  0                 f                         f   \n",
              "34325                  0                 f                         f   \n",
              "34326                  0                 f                         f   \n",
              "34327                  0                 f                         f   \n",
              "34328                  0                 f                         f   \n",
              "\n",
              "               cancellation_policy   ano mes  \n",
              "0      strict_14_with_grace_period  2018   4  \n",
              "1                           strict  2018   4  \n",
              "2                           strict  2018   4  \n",
              "3                           strict  2018   4  \n",
              "4                           strict  2018   4  \n",
              "...                            ...   ...  ..  \n",
              "34324                     flexible  2019   9  \n",
              "34325                     flexible  2019   9  \n",
              "34326  strict_14_with_grace_period  2019   9  \n",
              "34327  strict_14_with_grace_period  2019   9  \n",
              "34328  strict_14_with_grace_period  2019   9  \n",
              "\n",
              "[810421 rows x 23 columns]"
            ]
          },
          "metadata": {},
          "output_type": "display_data"
        },
        {
          "name": "stdout",
          "output_type": "stream",
          "text": [
            "87288\n"
          ]
        },
        {
          "data": {
            "image/png": "[encoded data removed]",
            "text/plain": [
              "<Figure size 1440x360 with 1 Axes>"
            ]
          },
          "metadata": {
            "needs_background": "light"
          },
          "output_type": "display_data"
        }
      ]
    },
    {
      "cell_type": "markdown",
      "metadata": {
        "id": "lopbMDdlrzuI"
      },
      "source": [
        "### extra_people"
      ]
    },
    {
      "cell_type": "code",
      "metadata": {
        "id": "AcfhsUPirzuI",
        "outputId": "91865d73-f768-4ee4-fbf4-0bc16d49b212"
      },
      "source": [
        "diagrama_caixa(base_airbnb['extra_people'])\n",
        "histograma(base_airbnb['extra_people'])"
      ],
      "execution_count": null,
      "outputs": [
        {
          "data": {
            "image/png": "[encoded data removed]",
            "text/plain": [
              "<Figure size 1080x360 with 2 Axes>"
            ]
          },
          "metadata": {
            "needs_background": "light"
          },
          "output_type": "display_data"
        },
        {
          "data": {
            "image/png": "[encoded data removed]",
            "text/plain": [
              "<Figure size 1440x360 with 1 Axes>"
            ]
          },
          "metadata": {
            "needs_background": "light"
          },
          "output_type": "display_data"
        }
      ]
    },
    {
      "cell_type": "code",
      "metadata": {
        "id": "HO9mKau4rzuJ",
        "outputId": "12cbb5d7-805e-4e89-a071-b198154ae97f"
      },
      "source": [
        "base_airbnb, linhas_removidas = excluir_outliers(base_airbnb, 'extra_people')\n",
        "print(linhas_removidas)"
      ],
      "execution_count": null,
      "outputs": [
        {
          "name": "stdout",
          "output_type": "stream",
          "text": [
            "59866\n"
          ]
        }
      ]
    },
    {
      "cell_type": "markdown",
      "metadata": {
        "id": "nIIAKfbCrzuJ"
      },
      "source": [
        "### host_listings_count"
      ]
    },
    {
      "cell_type": "code",
      "metadata": {
        "id": "nFrQt8ERrzuK",
        "outputId": "7a441e31-7ece-4ec2-e04e-793d6cb29190"
      },
      "source": [
        "diagrama_caixa(base_airbnb['host_listings_count'])\n",
        "grafico_barra(base_airbnb['host_listings_count'])"
      ],
      "execution_count": null,
      "outputs": [
        {
          "data": {
            "image/png": "[encoded data removed]",
            "text/plain": [
              "<Figure size 1080x360 with 2 Axes>"
            ]
          },
          "metadata": {
            "needs_background": "light"
          },
          "output_type": "display_data"
        },
        {
          "data": {
            "image/png": "[encoded data removed]",
            "text/plain": [
              "<Figure size 1080x360 with 1 Axes>"
            ]
          },
          "metadata": {
            "needs_background": "light"
          },
          "output_type": "display_data"
        }
      ]
    },
    {
      "cell_type": "code",
      "metadata": {
        "id": "NzAAOwx6rzuK"
      },
      "source": [
        "Podemos excluir os outliers, por que hosts com mais de 6 imóveis (provavelmente trabalham com isso) não são nosso\n",
        "público alvo"
      ],
      "execution_count": null,
      "outputs": []
    },
    {
      "cell_type": "code",
      "metadata": {
        "id": "g6ziXredrzuK",
        "outputId": "42175afb-5ec9-40f1-92ee-1e6b66500924"
      },
      "source": [
        "base_airbnb, linhas_removidas = excluir_outliers(base_airbnb, 'host_listings_count')\n",
        "print(linhas_removidas)"
      ],
      "execution_count": null,
      "outputs": [
        {
          "name": "stdout",
          "output_type": "stream",
          "text": [
            "129919\n"
          ]
        }
      ]
    },
    {
      "cell_type": "markdown",
      "metadata": {
        "id": "rZ1ZaBd8rzuL"
      },
      "source": [
        "### accommodates"
      ]
    },
    {
      "cell_type": "code",
      "metadata": {
        "id": "zfpuSOp8rzuL",
        "outputId": "de19f9da-aac8-4331-9d51-e47a7d8fe2b1"
      },
      "source": [
        "diagrama_caixa(base_airbnb['accommodates'])\n",
        "grafico_barra(base_airbnb['accommodates'])"
      ],
      "execution_count": null,
      "outputs": [
        {
          "data": {
            "image/png": "[encoded data removed]",
            "text/plain": [
              "<Figure size 1080x360 with 2 Axes>"
            ]
          },
          "metadata": {
            "needs_background": "light"
          },
          "output_type": "display_data"
        },
        {
          "data": {
            "image/png": "[encoded data removed]",
            "text/plain": [
              "<Figure size 1080x360 with 1 Axes>"
            ]
          },
          "metadata": {
            "needs_background": "light"
          },
          "output_type": "display_data"
        }
      ]
    },
    {
      "cell_type": "code",
      "metadata": {
        "id": "XV_AwKwarzuM",
        "outputId": "47817b40-32de-4dd9-95c9-6c16da10ae8a"
      },
      "source": [
        "base_airbnb, linhas_removidas = excluir_outliers(base_airbnb, 'accommodates')\n",
        "print(linhas_removidas)"
      ],
      "execution_count": null,
      "outputs": [
        {
          "name": "stdout",
          "output_type": "stream",
          "text": [
            "27884\n"
          ]
        }
      ]
    },
    {
      "cell_type": "markdown",
      "metadata": {
        "id": "iRBoZni6rzuM"
      },
      "source": [
        "### bathrooms"
      ]
    },
    {
      "cell_type": "code",
      "metadata": {
        "id": "P1VL__ddrzuM",
        "outputId": "863c892e-e766-4974-9980-b2b8124b0a0d"
      },
      "source": [
        "diagrama_caixa(base_airbnb['bathrooms'])\n",
        "plt.figure(figsize=(15, 5))\n",
        "sns.barplot(x=base_airbnb['bathrooms'].value_counts().index, y=base_airbnb['bathrooms'].value_counts())"
      ],
      "execution_count": null,
      "outputs": [
        {
          "data": {
            "text/plain": [
              "<AxesSubplot:ylabel='bathrooms'>"
            ]
          },
          "execution_count": 33,
          "metadata": {},
          "output_type": "execute_result"
        },
        {
          "data": {
            "image/png": "[encoded data removed]",
            "text/plain": [
              "<Figure size 1080x360 with 2 Axes>"
            ]
          },
          "metadata": {
            "needs_background": "light"
          },
          "output_type": "display_data"
        },
        {
          "data": {
            "image/png": "[encoded data removed]",
            "text/plain": [
              "<Figure size 1080x360 with 1 Axes>"
            ]
          },
          "metadata": {
            "needs_background": "light"
          },
          "output_type": "display_data"
        }
      ]
    },
    {
      "cell_type": "code",
      "metadata": {
        "id": "Ni10en4xrzuN",
        "outputId": "02dc7b7c-ba42-47ab-c28f-9607c22405ed"
      },
      "source": [
        "base_airbnb, linhas_removidas = excluir_outliers(base_airbnb, 'bathrooms')\n",
        "print(f'{linhas_removidas} Linhas removidas')"
      ],
      "execution_count": null,
      "outputs": [
        {
          "name": "stdout",
          "output_type": "stream",
          "text": [
            "26363 Linhas removidas\n"
          ]
        }
      ]
    },
    {
      "cell_type": "code",
      "metadata": {
        "id": "3OGSNDRQrzuN",
        "outputId": "153cc170-c34d-4d91-d866-072825e592e8"
      },
      "source": [
        "print(f' Até agora sobraram {base_airbnb.shape[0]} linhas')"
      ],
      "execution_count": null,
      "outputs": [
        {
          "name": "stdout",
          "output_type": "stream",
          "text": [
            " Até agora sobraram 713543 linhas\n"
          ]
        }
      ]
    },
    {
      "cell_type": "markdown",
      "metadata": {
        "id": "TPpusLkirzuO"
      },
      "source": [
        "### beds"
      ]
    },
    {
      "cell_type": "code",
      "metadata": {
        "id": "mKx1BMSkrzuO",
        "outputId": "164e33bf-d57d-487c-8313-ba77a372d6f2"
      },
      "source": [
        "diagrama_caixa(base_airbnb['beds'])\n",
        "grafico_barra(base_airbnb['beds'])"
      ],
      "execution_count": null,
      "outputs": [
        {
          "data": {
            "image/png": "[encoded data removed]",
            "text/plain": [
              "<Figure size 1080x360 with 2 Axes>"
            ]
          },
          "metadata": {
            "needs_background": "light"
          },
          "output_type": "display_data"
        },
        {
          "data": {
            "image/png": "[encoded data removed]",
            "text/plain": [
              "<Figure size 1080x360 with 1 Axes>"
            ]
          },
          "metadata": {
            "needs_background": "light"
          },
          "output_type": "display_data"
        }
      ]
    },
    {
      "cell_type": "code",
      "metadata": {
        "id": "aIaS3RUcrzuO",
        "outputId": "69ec6311-4f6f-41e1-a364-4aa9f99d0c75"
      },
      "source": [
        "base_airbnb, linhas_removidas = excluir_outliers(base_airbnb, 'beds')\n",
        "print(f'{linhas_removidas} Linhas removidas')"
      ],
      "execution_count": null,
      "outputs": [
        {
          "name": "stdout",
          "output_type": "stream",
          "text": [
            "24638 Linhas removidas\n"
          ]
        }
      ]
    },
    {
      "cell_type": "markdown",
      "metadata": {
        "id": "JUcFrozErzuP"
      },
      "source": [
        "### bedrooms"
      ]
    },
    {
      "cell_type": "code",
      "metadata": {
        "id": "jvqROu_grzuP",
        "outputId": "8c28cd4c-3936-44da-f36a-9015e80fcc34"
      },
      "source": [
        "diagrama_caixa(base_airbnb['bedrooms'])\n",
        "grafico_barra(base_airbnb['bedrooms'])"
      ],
      "execution_count": null,
      "outputs": [
        {
          "data": {
            "image/png": "[encoded data removed]",
            "text/plain": [
              "<Figure size 1080x360 with 2 Axes>"
            ]
          },
          "metadata": {
            "needs_background": "light"
          },
          "output_type": "display_data"
        },
        {
          "data": {
            "image/png": "[encoded data removed]",
            "text/plain": [
              "<Figure size 1080x360 with 1 Axes>"
            ]
          },
          "metadata": {
            "needs_background": "light"
          },
          "output_type": "display_data"
        }
      ]
    },
    {
      "cell_type": "code",
      "metadata": {
        "id": "n2bYn9MyrzuP",
        "outputId": "be15bc56-f84a-42c0-a825-dec33d017101"
      },
      "source": [
        "base_airbnb, linhas_removidas = excluir_outliers(base_airbnb, 'bedrooms')\n",
        "print(f'{linhas_removidas} Linhas removidas da coluna bedrooms')"
      ],
      "execution_count": null,
      "outputs": [
        {
          "name": "stdout",
          "output_type": "stream",
          "text": [
            "5306 Linhas removidas\n"
          ]
        }
      ]
    },
    {
      "cell_type": "markdown",
      "metadata": {
        "id": "ZfYB2JdBrzuQ"
      },
      "source": [
        "### guests_included"
      ]
    },
    {
      "cell_type": "code",
      "metadata": {
        "id": "uPYHBhiGrzuQ",
        "outputId": "33154714-0432-44df-afcc-c3e0300bd74a"
      },
      "source": [
        "print(limites(base_airbnb['guests_included']))\n",
        "plt.figure(figsize=(15, 5))\n",
        "sns.barplot(x=base_airbnb['guests_included'].value_counts().index, y=base_airbnb['guests_included'].value_counts())"
      ],
      "execution_count": null,
      "outputs": [
        {
          "name": "stdout",
          "output_type": "stream",
          "text": [
            "(1.0, 1.0)\n"
          ]
        },
        {
          "data": {
            "text/plain": [
              "<AxesSubplot:ylabel='guests_included'>"
            ]
          },
          "execution_count": 50,
          "metadata": {},
          "output_type": "execute_result"
        },
        {
          "data": {
            "image/png": "[encoded data removed]",
            "text/plain": [
              "<Figure size 1080x360 with 1 Axes>"
            ]
          },
          "metadata": {
            "needs_background": "light"
          },
          "output_type": "display_data"
        }
      ]
    },
    {
      "cell_type": "markdown",
      "metadata": {
        "id": "7u0cetmArzuQ"
      },
      "source": [
        "Vamos excluir essa feature da análise. Parece que os usuários do Airbnb usam muito o valor padrão como 1 guest included, isso pode levar o nosso modelo a considerar uma feature que na verdade não é essencial para definição do preço. Por isso me parece melhor excluir a coluna da análise."
      ]
    },
    {
      "cell_type": "code",
      "metadata": {
        "id": "Hc1OdmQHrzuQ",
        "outputId": "d4f98552-65a7-4128-f0e5-765621567c29"
      },
      "source": [
        "base_airbnb.drop('guests_included', axis=1, inplace=True)\n",
        "print(base_airbnb.shape)"
      ],
      "execution_count": null,
      "outputs": [
        {
          "name": "stdout",
          "output_type": "stream",
          "text": [
            "(683599, 22)\n"
          ]
        }
      ]
    },
    {
      "cell_type": "markdown",
      "metadata": {
        "id": "57M6FW8krzuR"
      },
      "source": [
        "### minimum_nights"
      ]
    },
    {
      "cell_type": "code",
      "metadata": {
        "id": "A_7g0JZQrzuR",
        "outputId": "4cd4fcf7-7e71-4f3f-8d3c-7ab6b12115b1"
      },
      "source": [
        "diagrama_caixa(base_airbnb['minimum_nights'])\n",
        "grafico_barra(base_airbnb['minimum_nights'])"
      ],
      "execution_count": null,
      "outputs": [
        {
          "data": {
            "image/png": "[encoded data removed]",
            "text/plain": [
              "<Figure size 1080x360 with 2 Axes>"
            ]
          },
          "metadata": {
            "needs_background": "light"
          },
          "output_type": "display_data"
        },
        {
          "data": {
            "image/png": "[encoded data removed]",
            "text/plain": [
              "<Figure size 1080x360 with 1 Axes>"
            ]
          },
          "metadata": {
            "needs_background": "light"
          },
          "output_type": "display_data"
        }
      ]
    },
    {
      "cell_type": "code",
      "metadata": {
        "id": "fpQKZw3BrzuR",
        "outputId": "88212b3f-b6db-446e-8b77-4f56b6b4712d"
      },
      "source": [
        "base_airbnb, linhas_removidas = excluir_outliers(base_airbnb, 'minimum_nights')\n",
        "print(f'{linhas_removidas} Linhas removidas da coluna minimum_nights')"
      ],
      "execution_count": null,
      "outputs": [
        {
          "name": "stdout",
          "output_type": "stream",
          "text": [
            "50896 Linhas removidas da coluna minimum_nights\n"
          ]
        }
      ]
    },
    {
      "cell_type": "markdown",
      "metadata": {
        "id": "G8CNfUayrzuS"
      },
      "source": [
        "### maximum_nights"
      ]
    },
    {
      "cell_type": "code",
      "metadata": {
        "id": "bzfRH0-OrzuS",
        "outputId": "cf9e1319-5adf-4236-9538-404775a9a6f3"
      },
      "source": [
        "diagrama_caixa(base_airbnb['maximum_nights'])\n",
        "grafico_barra(base_airbnb['maximum_nights'])"
      ],
      "execution_count": null,
      "outputs": [
        {
          "data": {
            "image/png": "[encoded data removed]",
            "text/plain": [
              "<Figure size 1080x360 with 2 Axes>"
            ]
          },
          "metadata": {
            "needs_background": "light"
          },
          "output_type": "display_data"
        },
        {
          "data": {
            "image/png": "[encoded data removed]",
            "text/plain": [
              "<Figure size 1080x360 with 1 Axes>"
            ]
          },
          "metadata": {
            "needs_background": "light"
          },
          "output_type": "display_data"
        }
      ]
    },
    {
      "cell_type": "code",
      "metadata": {
        "id": "EZzMc7PxrzuS",
        "outputId": "84d00f31-64b2-426e-f0b7-a1580e25be45"
      },
      "source": [
        "base_airbnb.drop('maximum_nights', axis=1, inplace=True)\n",
        "print(base_airbnb.shape[1])"
      ],
      "execution_count": null,
      "outputs": [
        {
          "name": "stdout",
          "output_type": "stream",
          "text": [
            "21\n"
          ]
        }
      ]
    },
    {
      "cell_type": "markdown",
      "metadata": {
        "id": "x_3bmdgCrzuT"
      },
      "source": [
        "### number_of_reviews             "
      ]
    },
    {
      "cell_type": "code",
      "metadata": {
        "id": "E5Ah7JAkrzuT",
        "outputId": "63376d3e-2d7f-42c6-bc39-c66ac309c78d"
      },
      "source": [
        "diagrama_caixa(base_airbnb['number_of_reviews'])\n",
        "grafico_barra(base_airbnb['number_of_reviews'])"
      ],
      "execution_count": null,
      "outputs": [
        {
          "data": {
            "image/png": "[encoded data removed]",
            "text/plain": [
              "<Figure size 1080x360 with 2 Axes>"
            ]
          },
          "metadata": {
            "needs_background": "light"
          },
          "output_type": "display_data"
        },
        {
          "data": {
            "image/png": "[encoded data removed]",
            "text/plain": [
              "<Figure size 1080x360 with 1 Axes>"
            ]
          },
          "metadata": {
            "needs_background": "light"
          },
          "output_type": "display_data"
        }
      ]
    },
    {
      "cell_type": "code",
      "metadata": {
        "id": "fGzGu6DprzuT",
        "outputId": "9e6e90a0-85c2-415a-9026-cd7f1435d0b9"
      },
      "source": [
        "base_airbnb.drop('number_of_reviews', axis=1, inplace=True)\n",
        "print(base_airbnb.shape[1])"
      ],
      "execution_count": null,
      "outputs": [
        {
          "name": "stdout",
          "output_type": "stream",
          "text": [
            "20\n"
          ]
        }
      ]
    },
    {
      "cell_type": "code",
      "metadata": {
        "id": "wVydZqtnrzuU",
        "outputId": "d0568a31-0f78-4219-91cc-15043cf45bc0"
      },
      "source": [
        "print(f'Linhas restantes: {base_airbnb.shape[0]}')"
      ],
      "execution_count": null,
      "outputs": [
        {
          "name": "stdout",
          "output_type": "stream",
          "text": [
            "Linhas restantes: 632703\n"
          ]
        }
      ]
    },
    {
      "cell_type": "markdown",
      "metadata": {
        "id": "wsKByLxtrzuU"
      },
      "source": [
        "## Tratamento das colunas de texto"
      ]
    },
    {
      "cell_type": "markdown",
      "metadata": {
        "id": "8ec1hD0ZrzuU"
      },
      "source": [
        "### property_type"
      ]
    },
    {
      "cell_type": "code",
      "metadata": {
        "id": "8RSiGZ7CrzuU",
        "outputId": "c8e8d2c2-9452-4b2c-d0ae-1b27d3ef98a7"
      },
      "source": [
        "print(base_airbnb['property_type'].value_counts())\n",
        "plt.figure(figsize=(15, 5))\n",
        "grafico = sns.countplot('property_type', data=base_airbnb)\n",
        "grafico.tick_params(axis='x', rotation=90)"
      ],
      "execution_count": null,
      "outputs": [
        {
          "name": "stdout",
          "output_type": "stream",
          "text": [
            "Apartment                 504945\n",
            "House                      53573\n",
            "Condominium                28087\n",
            "Loft                       13053\n",
            "Serviced apartment         12830\n",
            "Guest suite                 3675\n",
            "Bed and breakfast           2955\n",
            "Hostel                      2451\n",
            "Guesthouse                  2132\n",
            "Other                       1955\n",
            "Villa                       1367\n",
            "Townhouse                    896\n",
            "Aparthotel                   684\n",
            "Chalet                       510\n",
            "Hotel                        506\n",
            "Tiny house                   467\n",
            "Earth house                  436\n",
            "Boutique hotel               335\n",
            "Casa particular (Cuba)       300\n",
            "Boat                         270\n",
            "Cottage                      224\n",
            "Bungalow                     210\n",
            "Dorm                         184\n",
            "Cabin                         91\n",
            "Nature lodge                  83\n",
            "Castle                        80\n",
            "Treehouse                     76\n",
            "Island                        54\n",
            "Resort                        42\n",
            "Hut                           40\n",
            "Campsite                      34\n",
            "Camper/RV                     24\n",
            "Yurt                          23\n",
            "Tent                          18\n",
            "Tipi                          17\n",
            "Barn                          15\n",
            "Farm stay                     13\n",
            "Dome house                    10\n",
            "Pension (South Korea)          9\n",
            "Igloo                          6\n",
            "In-law                         6\n",
            "Timeshare                      4\n",
            "Vacation home                  4\n",
            "Pousada                        3\n",
            "Houseboat                      3\n",
            "Casa particular                2\n",
            "Plane                          1\n",
            "Name: property_type, dtype: int64\n"
          ]
        },
        {
          "name": "stderr",
          "output_type": "stream",
          "text": [
            "c:\\users\\vnsou\\appdata\\local\\programs\\python\\python39\\lib\\site-packages\\seaborn\\_decorators.py:36: FutureWarning: Pass the following variable as a keyword arg: x. From version 0.12, the only valid positional argument will be `data`, and passing other arguments without an explicit keyword will result in an error or misinterpretation.\n",
            "  warnings.warn(\n"
          ]
        },
        {
          "data": {
            "image/png": "[encoded data removed]",
            "text/plain": [
              "<Figure size 1080x360 with 1 Axes>"
            ]
          },
          "metadata": {
            "needs_background": "light"
          },
          "output_type": "display_data"
        }
      ]
    },
    {
      "cell_type": "code",
      "metadata": {
        "id": "KCE2XkcLrzuV",
        "outputId": "4d9c5bc2-32c0-4590-e89e-a1d69a251184"
      },
      "source": [
        "\"\"\"print(base_airbnb['property_type'].value_counts().loc[lambda x: x < 2000])\n",
        "others = base_airbnb['property_type'].value_counts().loc[lambda x: x < 2000]\n",
        "others = others.to_frame()\n",
        "outros = []\n",
        "for tipo in others.index:\n",
        "    outros.append(tipo)\n",
        "print(outros)\n",
        "\"\"\"\n",
        "tipos_de_casa = base_airbnb['property_type'].value_counts()\n",
        "\n",
        "outros = []\n",
        "for tipo in tipos_de_casa.index:\n",
        "    if tipos_de_casa[tipo] < 2000:\n",
        "        outros.append(tipo)\n",
        "#print(outros)\n",
        "#print(base_airbnb['property_type'].value_counts())\n",
        "\n",
        "for tipo in tipos_de_casa.index:\n",
        "    if tipo in outros:\n",
        "        print(tipo, tipos_de_casa[tipo])\n",
        "\n",
        "for tipo in outros:\n",
        "    base_airbnb.loc[base_airbnb['property_type'] == tipo, 'property_type'] = 'Outros'\n",
        "print(base_airbnb['property_type'].value_counts())\n",
        "\n",
        "plt.figure(figsize=(15, 5))\n",
        "grafico = sns.countplot('property_type', data=base_airbnb)\n",
        "grafico.tick_params(axis='x', rotation=90)"
      ],
      "execution_count": null,
      "outputs": [
        {
          "name": "stdout",
          "output_type": "stream",
          "text": [
            "Apartment             504945\n",
            "House                  53573\n",
            "Condominium            28087\n",
            "Loft                   13053\n",
            "Serviced apartment     12830\n",
            "Outros                  9002\n",
            "Guest suite             3675\n",
            "Bed and breakfast       2955\n",
            "Hostel                  2451\n",
            "Guesthouse              2132\n",
            "Name: property_type, dtype: int64\n"
          ]
        },
        {
          "name": "stderr",
          "output_type": "stream",
          "text": [
            "c:\\users\\vnsou\\appdata\\local\\programs\\python\\python39\\lib\\site-packages\\seaborn\\_decorators.py:36: FutureWarning: Pass the following variable as a keyword arg: x. From version 0.12, the only valid positional argument will be `data`, and passing other arguments without an explicit keyword will result in an error or misinterpretation.\n",
            "  warnings.warn(\n"
          ]
        },
        {
          "data": {
            "image/png": "[encoded data removed]",
            "text/plain": [
              "<Figure size 1080x360 with 1 Axes>"
            ]
          },
          "metadata": {
            "needs_background": "light"
          },
          "output_type": "display_data"
        }
      ]
    },
    {
      "cell_type": "markdown",
      "metadata": {
        "id": "FNQzLNRZrzuV"
      },
      "source": [
        "### room_type"
      ]
    },
    {
      "cell_type": "code",
      "metadata": {
        "id": "p4ooKwIerzuV",
        "outputId": "f9871de0-0444-4280-e08f-22ec2412d075"
      },
      "source": [
        "print(base_airbnb['room_type'].value_counts())\n",
        "\n",
        "plt.figure(figsize=(15, 5))\n",
        "grafico = sns.countplot('room_type', data=base_airbnb)\n",
        "grafico.tick_params(axis='x', rotation=90)"
      ],
      "execution_count": null,
      "outputs": [
        {
          "name": "stdout",
          "output_type": "stream",
          "text": [
            "Entire home/apt    415332\n",
            "Private room       204947\n",
            "Shared room         11663\n",
            "Hotel room            761\n",
            "Name: room_type, dtype: int64\n"
          ]
        },
        {
          "name": "stderr",
          "output_type": "stream",
          "text": [
            "c:\\users\\vnsou\\appdata\\local\\programs\\python\\python39\\lib\\site-packages\\seaborn\\_decorators.py:36: FutureWarning: Pass the following variable as a keyword arg: x. From version 0.12, the only valid positional argument will be `data`, and passing other arguments without an explicit keyword will result in an error or misinterpretation.\n",
            "  warnings.warn(\n"
          ]
        },
        {
          "data": {
            "image/png": "[encoded data removed]",
            "text/plain": [
              "<Figure size 1080x360 with 1 Axes>"
            ]
          },
          "metadata": {
            "needs_background": "light"
          },
          "output_type": "display_data"
        }
      ]
    },
    {
      "cell_type": "markdown",
      "metadata": {
        "id": "ETMifFE0rzuW"
      },
      "source": [
        "### bed_type"
      ]
    },
    {
      "cell_type": "code",
      "metadata": {
        "id": "lhZOb3EjrzuW",
        "outputId": "3b0cc59e-1bde-4a6b-ee0b-4826c2822a8c"
      },
      "source": [
        "print(base_airbnb['bed_type'].value_counts())\n",
        "\n",
        "plt.figure(figsize=(15, 5))\n",
        "grafico = sns.countplot('bed_type', data=base_airbnb)\n",
        "grafico.tick_params(axis='x', rotation=90)"
      ],
      "execution_count": null,
      "outputs": [
        {
          "name": "stdout",
          "output_type": "stream",
          "text": [
            "Real Bed         620535\n",
            "Pull-out Sofa      8548\n",
            "Futon              1824\n",
            "Airbed             1257\n",
            "Couch               539\n",
            "Name: bed_type, dtype: int64\n"
          ]
        },
        {
          "name": "stderr",
          "output_type": "stream",
          "text": [
            "c:\\users\\vnsou\\appdata\\local\\programs\\python\\python39\\lib\\site-packages\\seaborn\\_decorators.py:36: FutureWarning: Pass the following variable as a keyword arg: x. From version 0.12, the only valid positional argument will be `data`, and passing other arguments without an explicit keyword will result in an error or misinterpretation.\n",
            "  warnings.warn(\n"
          ]
        },
        {
          "data": {
            "image/png": "[encoded data removed]",
            "text/plain": [
              "<Figure size 1080x360 with 1 Axes>"
            ]
          },
          "metadata": {
            "needs_background": "light"
          },
          "output_type": "display_data"
        }
      ]
    },
    {
      "cell_type": "markdown",
      "metadata": {
        "id": "7zUWxXDrrzuW"
      },
      "source": [
        "Criando uma lista com os tipos com menos ocorrências"
      ]
    },
    {
      "cell_type": "code",
      "metadata": {
        "id": "PWp9nyzErzuW",
        "outputId": "553271a5-b5a2-4b05-9a1b-cc2262b6a13f"
      },
      "source": [
        "tipos_de_cama = base_airbnb['bed_type'].value_counts()\n",
        "outros_tipos = []\n",
        "for tipo in tipos_de_cama.index:\n",
        "    if tipos_de_cama[tipo] < 10000:\n",
        "        outros_tipos.append(tipo)\n",
        "print(outros_tipos)"
      ],
      "execution_count": null,
      "outputs": [
        {
          "name": "stdout",
          "output_type": "stream",
          "text": [
            "[]\n",
            "Real Bed        620535\n",
            "Outros tipos     12168\n",
            "Name: bed_type, dtype: int64\n"
          ]
        }
      ]
    },
    {
      "cell_type": "markdown",
      "metadata": {
        "id": "nliYbKQ3rzuX"
      },
      "source": [
        "Agrupando os outros tipos com menos valores"
      ]
    },
    {
      "cell_type": "code",
      "metadata": {
        "id": "cmnaILFUrzuX",
        "outputId": "0ecd6b77-44c7-4cd6-b3cd-9b7c2f474de3"
      },
      "source": [
        "for tipo in outros_tipos:\n",
        "    base_airbnb.loc[base_airbnb['bed_type'] == tipo, 'bed_type'] = 'Outros tipos'\n",
        "print(base_airbnb['bed_type'].value_counts())"
      ],
      "execution_count": null,
      "outputs": [
        {
          "name": "stdout",
          "output_type": "stream",
          "text": [
            "Real Bed        620535\n",
            "Outros tipos     12168\n",
            "Name: bed_type, dtype: int64\n"
          ]
        }
      ]
    },
    {
      "cell_type": "code",
      "metadata": {
        "id": "M8IJIqDKrzuX",
        "outputId": "a5753279-f6b0-4f31-d489-eebc266c022e"
      },
      "source": [
        "plt.figure(figsize=(15, 5))\n",
        "grafico = sns.countplot('bed_type', data=base_airbnb)"
      ],
      "execution_count": null,
      "outputs": [
        {
          "name": "stderr",
          "output_type": "stream",
          "text": [
            "c:\\users\\vnsou\\appdata\\local\\programs\\python\\python39\\lib\\site-packages\\seaborn\\_decorators.py:36: FutureWarning: Pass the following variable as a keyword arg: x. From version 0.12, the only valid positional argument will be `data`, and passing other arguments without an explicit keyword will result in an error or misinterpretation.\n",
            "  warnings.warn(\n"
          ]
        },
        {
          "data": {
            "image/png": "[encoded data removed]",
            "text/plain": [
              "<Figure size 1080x360 with 1 Axes>"
            ]
          },
          "metadata": {
            "needs_background": "light"
          },
          "output_type": "display_data"
        }
      ]
    },
    {
      "cell_type": "markdown",
      "metadata": {
        "id": "E0MvJyDOrzuY"
      },
      "source": [
        "### cancellation_policy"
      ]
    },
    {
      "cell_type": "code",
      "metadata": {
        "id": "AQs8VyU2rzuY",
        "outputId": "de2cd294-8c27-4624-bcb1-3330cf883ed0"
      },
      "source": [
        "print(base_airbnb['cancellation_policy'].value_counts())\n",
        "\n",
        "plt.figure(figsize=(15, 5))\n",
        "grafico = sns.countplot(x='cancellation_policy', data=base_airbnb)\n",
        "grafico.tick_params(axis='x', rotation=90)"
      ],
      "execution_count": null,
      "outputs": [
        {
          "name": "stdout",
          "output_type": "stream",
          "text": [
            "flexible                       284526\n",
            "strict_14_with_grace_period    217521\n",
            "moderate                       120164\n",
            "strict                          10358\n",
            "super_strict_60                   107\n",
            "super_strict_30                    27\n",
            "Name: cancellation_policy, dtype: int64\n"
          ]
        },
        {
          "data": {
            "image/png": "[encoded data removed]",
            "text/plain": [
              "<Figure size 1080x360 with 1 Axes>"
            ]
          },
          "metadata": {
            "needs_background": "light"
          },
          "output_type": "display_data"
        }
      ]
    },
    {
      "cell_type": "markdown",
      "metadata": {
        "id": "gPxQzI1VrzuY"
      },
      "source": [
        "### agrupando linhas 'strict'"
      ]
    },
    {
      "cell_type": "markdown",
      "metadata": {
        "id": "FAeVODnSrzuZ"
      },
      "source": [
        "# --------------------------------------------------erro----------------------------------------------------"
      ]
    },
    {
      "cell_type": "markdown",
      "metadata": {
        "id": "W7XtYod-rzuZ"
      },
      "source": [
        "Abaixo eu digitei o código errado e exclui todos os valores da coluna 'cancellation_policy' deixando apenas o index 'strict', vou setar a mão os valores abaixo novamente:\n",
        "flexible                       284526\n",
        "strict_14_with_grace_period    217521\n",
        "moderate                       120164\n",
        "strict                          10358\n",
        "super_strict_60                   107\n",
        "super_strict_30                    27"
      ]
    },
    {
      "cell_type": "code",
      "metadata": {
        "id": "IHv0m-aDrzuZ",
        "outputId": "36f52a1b-8c3a-4fc1-82f7-2e042965340d"
      },
      "source": [
        "#new_series = pd.Series(['flexible', 'strict_14_with_grace_period', 'moderate'])\n",
        "#base_airbnb['cancellation_policy'].value_counts()\n",
        "#base_airbnb.append(new_series, ignore_index=True)\n",
        "# print(base_airbnb.value_counts())\n",
        "\n",
        "new_cancellation_policy = pd.Series(name='new_cancellation_policy', index=['flexible', 'strict_14_with_grace_period', 'moderate', 'strict'],\n",
        "         data=[284526, 217521, 120164, 10495])\n",
        "\n",
        "print(new_cancellation_policy)\n"
      ],
      "execution_count": null,
      "outputs": [
        {
          "name": "stdout",
          "output_type": "stream",
          "text": [
            "flexible                       284526\n",
            "strict_14_with_grace_period    217521\n",
            "moderate                       120164\n",
            "strict                          10495\n",
            "Name: new_cancellation_policy, dtype: int64\n"
          ]
        }
      ]
    },
    {
      "cell_type": "code",
      "metadata": {
        "id": "DfQYiym3rzuZ",
        "outputId": "aa69d90e-45e8-43e6-fb6a-96711009c0fb"
      },
      "source": [
        "print(base_airbnb['cancellation_policy'])\n",
        "# base_airbnb['cancellation_policy'] = new_cancellation_policy\n",
        "print(base_airbnb['cancellation_policy'].value_counts())"
      ],
      "execution_count": null,
      "outputs": [
        {
          "name": "stdout",
          "output_type": "stream",
          "text": [
            "1        strict\n",
            "2        strict\n",
            "3        strict\n",
            "4        strict\n",
            "5        strict\n",
            "          ...  \n",
            "34323    strict\n",
            "34324    strict\n",
            "34325    strict\n",
            "34327    strict\n",
            "34328    strict\n",
            "Name: cancellation_policy, Length: 632703, dtype: object\n",
            "strict    632703\n",
            "Name: cancellation_policy, dtype: int64\n"
          ]
        }
      ]
    },
    {
      "cell_type": "code",
      "metadata": {
        "id": "WbQstauwrzua",
        "outputId": "0ca8a30c-6b50-4875-d319-b61e611a05fc"
      },
      "source": [
        "# print(base_airbnb['cancellation_policy'].value_counts())\n",
        "\n",
        "cancelamento = base_airbnb['cancellation_policy'].value_counts()\n",
        "print(cancelamento)\n",
        "strict = []\n",
        "for tipo in cancelamento.index:\n",
        "    if cancelamento[tipo] < 50000:\n",
        "        strict.append(tipo)\n",
        "print(strict)\n",
        "\n",
        "#for tipo in cancelamento.index:\n",
        " #   base_airbnb.loc[base_airbnb['cancellation_policy'] == tipo, 'cancellation_policy'] = 'strict'\n",
        "#print(base_airbnb['cancellation_policy'].value_counts())"
      ],
      "execution_count": null,
      "outputs": [
        {
          "name": "stdout",
          "output_type": "stream",
          "text": [
            "strict    632703\n",
            "Name: cancellation_policy, dtype: int64\n",
            "[]\n"
          ]
        }
      ]
    },
    {
      "cell_type": "markdown",
      "metadata": {
        "id": "PIqF4GMhrzua"
      },
      "source": [
        "### Nada acima funcionou e agora estou sem os dados da coluna cancellation_policy, vou ter que carregar novamente os dados originais que não foram modificados, preciso descobrir como fazer isso"
      ]
    },
    {
      "cell_type": "markdown",
      "metadata": {
        "id": "4-nI4pd1rzub"
      },
      "source": [
        "### Tentando resgatar a coluna cancellatin_policy original sem os dados excluidos"
      ]
    },
    {
      "cell_type": "code",
      "metadata": {
        "id": "Z1TqIG3Lrzub",
        "outputId": "6ac5635d-8bb6-4535-d118-0344043c0097"
      },
      "source": [
        "caminho_bases_backup = pathlib.Path('dataset')\n",
        "base_airbnb_backup = pd.DataFrame()\n",
        "\n",
        "for arquivo in caminho_bases_backup.iterdir():\n",
        "    nome_mes = arquivo.name[:3]\n",
        "    mes = meses[nome_mes]\n",
        "\n",
        "    ano = arquivo.name[-8:-4]\n",
        "    #ou ano = arquivo.name[-8:]\n",
        "    #ano = int(ano.replace('.csv', ''))\n",
        "\n",
        "    df_backup = pd.read_csv(caminho_bases_backup / arquivo.name)\n",
        "    df_backup['ano'] = ano\n",
        "    df_backup['mes'] = mes\n",
        "    base_airbnb_backup = base_airbnb_backup.append(df_backup)\n",
        "\n",
        "display(base_airbnb_backup.head())"
      ],
      "execution_count": null,
      "outputs": [
        {
          "data": {
            "text/html": [
              "<div>\n",
              "<style scoped>\n",
              "    .dataframe tbody tr th:only-of-type {\n",
              "        vertical-align: middle;\n",
              "    }\n",
              "\n",
              "    .dataframe tbody tr th {\n",
              "        vertical-align: top;\n",
              "    }\n",
              "\n",
              "    .dataframe thead th {\n",
              "        text-align: right;\n",
              "    }\n",
              "</style>\n",
              "<table border=\"1\" class=\"dataframe\">\n",
              "  <thead>\n",
              "    <tr style=\"text-align: right;\">\n",
              "      <th></th>\n",
              "      <th>id</th>\n",
              "      <th>listing_url</th>\n",
              "      <th>scrape_id</th>\n",
              "      <th>last_scraped</th>\n",
              "      <th>name</th>\n",
              "      <th>summary</th>\n",
              "      <th>space</th>\n",
              "      <th>description</th>\n",
              "      <th>experiences_offered</th>\n",
              "      <th>neighborhood_overview</th>\n",
              "      <th>...</th>\n",
              "      <th>minimum_minimum_nights</th>\n",
              "      <th>maximum_minimum_nights</th>\n",
              "      <th>minimum_maximum_nights</th>\n",
              "      <th>maximum_maximum_nights</th>\n",
              "      <th>minimum_nights_avg_ntm</th>\n",
              "      <th>maximum_nights_avg_ntm</th>\n",
              "      <th>number_of_reviews_ltm</th>\n",
              "      <th>calculated_host_listings_count_entire_homes</th>\n",
              "      <th>calculated_host_listings_count_private_rooms</th>\n",
              "      <th>calculated_host_listings_count_shared_rooms</th>\n",
              "    </tr>\n",
              "  </thead>\n",
              "  <tbody>\n",
              "    <tr>\n",
              "      <th>0</th>\n",
              "      <td>14063</td>\n",
              "      <td>https://www.airbnb.com/rooms/14063</td>\n",
              "      <td>20180414160018</td>\n",
              "      <td>2018-04-14</td>\n",
              "      <td>Living in a Postcard</td>\n",
              "      <td>Besides the most iconic's view, our apartment ...</td>\n",
              "      <td>NaN</td>\n",
              "      <td>Besides the most iconic's view, our apartment ...</td>\n",
              "      <td>none</td>\n",
              "      <td>Best and favorite neighborhood of Rio. Perfect...</td>\n",
              "      <td>...</td>\n",
              "      <td>NaN</td>\n",
              "      <td>NaN</td>\n",
              "      <td>NaN</td>\n",
              "      <td>NaN</td>\n",
              "      <td>NaN</td>\n",
              "      <td>NaN</td>\n",
              "      <td>NaN</td>\n",
              "      <td>NaN</td>\n",
              "      <td>NaN</td>\n",
              "      <td>NaN</td>\n",
              "    </tr>\n",
              "    <tr>\n",
              "      <th>1</th>\n",
              "      <td>17878</td>\n",
              "      <td>https://www.airbnb.com/rooms/17878</td>\n",
              "      <td>20180414160018</td>\n",
              "      <td>2018-04-14</td>\n",
              "      <td>Very Nice 2Br - Copacabana - WiFi</td>\n",
              "      <td>Please note that special rates apply for New Y...</td>\n",
              "      <td>- large balcony which looks out on pedestrian ...</td>\n",
              "      <td>Please note that special rates apply for New Y...</td>\n",
              "      <td>none</td>\n",
              "      <td>This is the best spot in Rio. Everything happe...</td>\n",
              "      <td>...</td>\n",
              "      <td>NaN</td>\n",
              "      <td>NaN</td>\n",
              "      <td>NaN</td>\n",
              "      <td>NaN</td>\n",
              "      <td>NaN</td>\n",
              "      <td>NaN</td>\n",
              "      <td>NaN</td>\n",
              "      <td>NaN</td>\n",
              "      <td>NaN</td>\n",
              "      <td>NaN</td>\n",
              "    </tr>\n",
              "    <tr>\n",
              "      <th>2</th>\n",
              "      <td>24480</td>\n",
              "      <td>https://www.airbnb.com/rooms/24480</td>\n",
              "      <td>20180414160018</td>\n",
              "      <td>2018-04-14</td>\n",
              "      <td>Nice and cozy near Ipanema Beach</td>\n",
              "      <td>My studio is located in the best  of Ipanema. ...</td>\n",
              "      <td>The studio is located at Vinicius de Moraes St...</td>\n",
              "      <td>My studio is located in the best  of Ipanema. ...</td>\n",
              "      <td>none</td>\n",
              "      <td>The beach, the lagoon, Ipanema is a great loca...</td>\n",
              "      <td>...</td>\n",
              "      <td>NaN</td>\n",
              "      <td>NaN</td>\n",
              "      <td>NaN</td>\n",
              "      <td>NaN</td>\n",
              "      <td>NaN</td>\n",
              "      <td>NaN</td>\n",
              "      <td>NaN</td>\n",
              "      <td>NaN</td>\n",
              "      <td>NaN</td>\n",
              "      <td>NaN</td>\n",
              "    </tr>\n",
              "    <tr>\n",
              "      <th>3</th>\n",
              "      <td>25026</td>\n",
              "      <td>https://www.airbnb.com/rooms/25026</td>\n",
              "      <td>20180414160018</td>\n",
              "      <td>2018-04-14</td>\n",
              "      <td>Beautiful Modern Decorated Studio in Copa</td>\n",
              "      <td>Our apartment is a little gem, everyone loves ...</td>\n",
              "      <td>This newly renovated studio (last renovations ...</td>\n",
              "      <td>Our apartment is a little gem, everyone loves ...</td>\n",
              "      <td>none</td>\n",
              "      <td>Copacabana is a lively neighborhood and the ap...</td>\n",
              "      <td>...</td>\n",
              "      <td>NaN</td>\n",
              "      <td>NaN</td>\n",
              "      <td>NaN</td>\n",
              "      <td>NaN</td>\n",
              "      <td>NaN</td>\n",
              "      <td>NaN</td>\n",
              "      <td>NaN</td>\n",
              "      <td>NaN</td>\n",
              "      <td>NaN</td>\n",
              "      <td>NaN</td>\n",
              "    </tr>\n",
              "    <tr>\n",
              "      <th>4</th>\n",
              "      <td>31560</td>\n",
              "      <td>https://www.airbnb.com/rooms/31560</td>\n",
              "      <td>20180414160018</td>\n",
              "      <td>2018-04-14</td>\n",
              "      <td>NICE &amp; COZY 1BDR - IPANEMA BEACH</td>\n",
              "      <td>This nice and clean 1 bedroom apartment is loc...</td>\n",
              "      <td>This nice and clean 1 bedroom apartment is loc...</td>\n",
              "      <td>This nice and clean 1 bedroom apartment is loc...</td>\n",
              "      <td>none</td>\n",
              "      <td>Die Nachbarschaft von Ipanema ist super lebend...</td>\n",
              "      <td>...</td>\n",
              "      <td>NaN</td>\n",
              "      <td>NaN</td>\n",
              "      <td>NaN</td>\n",
              "      <td>NaN</td>\n",
              "      <td>NaN</td>\n",
              "      <td>NaN</td>\n",
              "      <td>NaN</td>\n",
              "      <td>NaN</td>\n",
              "      <td>NaN</td>\n",
              "      <td>NaN</td>\n",
              "    </tr>\n",
              "  </tbody>\n",
              "</table>\n",
              "<p>5 rows × 108 columns</p>\n",
              "</div>"
            ],
            "text/plain": [
              "      id                         listing_url       scrape_id last_scraped  \\\n",
              "0  14063  https://www.airbnb.com/rooms/14063  20180414160018   2018-04-14   \n",
              "1  17878  https://www.airbnb.com/rooms/17878  20180414160018   2018-04-14   \n",
              "2  24480  https://www.airbnb.com/rooms/24480  20180414160018   2018-04-14   \n",
              "3  25026  https://www.airbnb.com/rooms/25026  20180414160018   2018-04-14   \n",
              "4  31560  https://www.airbnb.com/rooms/31560  20180414160018   2018-04-14   \n",
              "\n",
              "                                        name  \\\n",
              "0                       Living in a Postcard   \n",
              "1          Very Nice 2Br - Copacabana - WiFi   \n",
              "2           Nice and cozy near Ipanema Beach   \n",
              "3  Beautiful Modern Decorated Studio in Copa   \n",
              "4           NICE & COZY 1BDR - IPANEMA BEACH   \n",
              "\n",
              "                                             summary  \\\n",
              "0  Besides the most iconic's view, our apartment ...   \n",
              "1  Please note that special rates apply for New Y...   \n",
              "2  My studio is located in the best  of Ipanema. ...   \n",
              "3  Our apartment is a little gem, everyone loves ...   \n",
              "4  This nice and clean 1 bedroom apartment is loc...   \n",
              "\n",
              "                                               space  \\\n",
              "0                                                NaN   \n",
              "1  - large balcony which looks out on pedestrian ...   \n",
              "2  The studio is located at Vinicius de Moraes St...   \n",
              "3  This newly renovated studio (last renovations ...   \n",
              "4  This nice and clean 1 bedroom apartment is loc...   \n",
              "\n",
              "                                         description experiences_offered  \\\n",
              "0  Besides the most iconic's view, our apartment ...                none   \n",
              "1  Please note that special rates apply for New Y...                none   \n",
              "2  My studio is located in the best  of Ipanema. ...                none   \n",
              "3  Our apartment is a little gem, everyone loves ...                none   \n",
              "4  This nice and clean 1 bedroom apartment is loc...                none   \n",
              "\n",
              "                               neighborhood_overview  ...  \\\n",
              "0  Best and favorite neighborhood of Rio. Perfect...  ...   \n",
              "1  This is the best spot in Rio. Everything happe...  ...   \n",
              "2  The beach, the lagoon, Ipanema is a great loca...  ...   \n",
              "3  Copacabana is a lively neighborhood and the ap...  ...   \n",
              "4  Die Nachbarschaft von Ipanema ist super lebend...  ...   \n",
              "\n",
              "  minimum_minimum_nights maximum_minimum_nights minimum_maximum_nights  \\\n",
              "0                    NaN                    NaN                    NaN   \n",
              "1                    NaN                    NaN                    NaN   \n",
              "2                    NaN                    NaN                    NaN   \n",
              "3                    NaN                    NaN                    NaN   \n",
              "4                    NaN                    NaN                    NaN   \n",
              "\n",
              "  maximum_maximum_nights minimum_nights_avg_ntm  maximum_nights_avg_ntm  \\\n",
              "0                    NaN                    NaN                     NaN   \n",
              "1                    NaN                    NaN                     NaN   \n",
              "2                    NaN                    NaN                     NaN   \n",
              "3                    NaN                    NaN                     NaN   \n",
              "4                    NaN                    NaN                     NaN   \n",
              "\n",
              "   number_of_reviews_ltm calculated_host_listings_count_entire_homes  \\\n",
              "0                    NaN                                         NaN   \n",
              "1                    NaN                                         NaN   \n",
              "2                    NaN                                         NaN   \n",
              "3                    NaN                                         NaN   \n",
              "4                    NaN                                         NaN   \n",
              "\n",
              "   calculated_host_listings_count_private_rooms  \\\n",
              "0                                           NaN   \n",
              "1                                           NaN   \n",
              "2                                           NaN   \n",
              "3                                           NaN   \n",
              "4                                           NaN   \n",
              "\n",
              "   calculated_host_listings_count_shared_rooms  \n",
              "0                                          NaN  \n",
              "1                                          NaN  \n",
              "2                                          NaN  \n",
              "3                                          NaN  \n",
              "4                                          NaN  \n",
              "\n",
              "[5 rows x 108 columns]"
            ]
          },
          "metadata": {},
          "output_type": "display_data"
        }
      ]
    },
    {
      "cell_type": "code",
      "metadata": {
        "id": "d5XVZDeorzuc",
        "outputId": "c3796a16-bc69-4371-b5f5-22729623e52e"
      },
      "source": [
        "print(base_airbnb_backup['cancellation_policy'].value_counts())\n",
        "base_airbnb.drop('cancellation_policy', axis=1)\n",
        "base_airbnb['cancellation_policy'] = base_airbnb_backup['cancellation_policy']\n",
        "print(base_airbnb['new_cancellation_policy'].value_counts())"
      ],
      "execution_count": null,
      "outputs": [
        {
          "name": "stdout",
          "output_type": "stream",
          "text": [
            "flexible                       386758\n",
            "strict_14_with_grace_period    338301\n",
            "moderate                       149753\n",
            "strict                          16243\n",
            "super_strict_60                  8202\n",
            "super_strict_30                  2953\n",
            "Name: cancellation_policy, dtype: int64\n"
          ]
        },
        {
          "ename": "ValueError",
          "evalue": "cannot reindex from a duplicate axis",
          "output_type": "error",
          "traceback": [
            "\u001b[1;31m---------------------------------------------------------------------------\u001b[0m",
            "\u001b[1;31mValueError\u001b[0m                                Traceback (most recent call last)",
            "\u001b[1;32m~\\AppData\\Local\\Temp/ipykernel_12920/1334860900.py\u001b[0m in \u001b[0;36m<module>\u001b[1;34m\u001b[0m\n\u001b[0;32m      1\u001b[0m \u001b[0mprint\u001b[0m\u001b[1;33m(\u001b[0m\u001b[0mbase_airbnb_backup\u001b[0m\u001b[1;33m[\u001b[0m\u001b[1;34m'cancellation_policy'\u001b[0m\u001b[1;33m]\u001b[0m\u001b[1;33m.\u001b[0m\u001b[0mvalue_counts\u001b[0m\u001b[1;33m(\u001b[0m\u001b[1;33m)\u001b[0m\u001b[1;33m)\u001b[0m\u001b[1;33m\u001b[0m\u001b[1;33m\u001b[0m\u001b[0m\n\u001b[0;32m      2\u001b[0m \u001b[0mbase_airbnb\u001b[0m\u001b[1;33m.\u001b[0m\u001b[0mdrop\u001b[0m\u001b[1;33m(\u001b[0m\u001b[1;34m'cancellation_policy'\u001b[0m\u001b[1;33m,\u001b[0m \u001b[0maxis\u001b[0m\u001b[1;33m=\u001b[0m\u001b[1;36m1\u001b[0m\u001b[1;33m)\u001b[0m\u001b[1;33m\u001b[0m\u001b[1;33m\u001b[0m\u001b[0m\n\u001b[1;32m----> 3\u001b[1;33m \u001b[0mbase_airbnb\u001b[0m\u001b[1;33m[\u001b[0m\u001b[1;34m'cancellation_policy'\u001b[0m\u001b[1;33m]\u001b[0m \u001b[1;33m=\u001b[0m \u001b[0mbase_airbnb_backup\u001b[0m\u001b[1;33m[\u001b[0m\u001b[1;34m'cancellation_policy'\u001b[0m\u001b[1;33m]\u001b[0m\u001b[1;33m\u001b[0m\u001b[1;33m\u001b[0m\u001b[0m\n\u001b[0m\u001b[0;32m      4\u001b[0m \u001b[0mprint\u001b[0m\u001b[1;33m(\u001b[0m\u001b[0mbase_airbnb\u001b[0m\u001b[1;33m[\u001b[0m\u001b[1;34m'new_cancellation_policy'\u001b[0m\u001b[1;33m]\u001b[0m\u001b[1;33m.\u001b[0m\u001b[0mvalue_counts\u001b[0m\u001b[1;33m(\u001b[0m\u001b[1;33m)\u001b[0m\u001b[1;33m)\u001b[0m\u001b[1;33m\u001b[0m\u001b[1;33m\u001b[0m\u001b[0m\n",
            "\u001b[1;32mc:\\users\\vnsou\\appdata\\local\\programs\\python\\python39\\lib\\site-packages\\pandas\\core\\frame.py\u001b[0m in \u001b[0;36m__setitem__\u001b[1;34m(self, key, value)\u001b[0m\n\u001b[0;32m   3610\u001b[0m         \u001b[1;32melse\u001b[0m\u001b[1;33m:\u001b[0m\u001b[1;33m\u001b[0m\u001b[1;33m\u001b[0m\u001b[0m\n\u001b[0;32m   3611\u001b[0m             \u001b[1;31m# set column\u001b[0m\u001b[1;33m\u001b[0m\u001b[1;33m\u001b[0m\u001b[1;33m\u001b[0m\u001b[0m\n\u001b[1;32m-> 3612\u001b[1;33m             \u001b[0mself\u001b[0m\u001b[1;33m.\u001b[0m\u001b[0m_set_item\u001b[0m\u001b[1;33m(\u001b[0m\u001b[0mkey\u001b[0m\u001b[1;33m,\u001b[0m \u001b[0mvalue\u001b[0m\u001b[1;33m)\u001b[0m\u001b[1;33m\u001b[0m\u001b[1;33m\u001b[0m\u001b[0m\n\u001b[0m\u001b[0;32m   3613\u001b[0m \u001b[1;33m\u001b[0m\u001b[0m\n\u001b[0;32m   3614\u001b[0m     \u001b[1;32mdef\u001b[0m \u001b[0m_setitem_slice\u001b[0m\u001b[1;33m(\u001b[0m\u001b[0mself\u001b[0m\u001b[1;33m,\u001b[0m \u001b[0mkey\u001b[0m\u001b[1;33m:\u001b[0m \u001b[0mslice\u001b[0m\u001b[1;33m,\u001b[0m \u001b[0mvalue\u001b[0m\u001b[1;33m)\u001b[0m\u001b[1;33m:\u001b[0m\u001b[1;33m\u001b[0m\u001b[1;33m\u001b[0m\u001b[0m\n",
            "\u001b[1;32mc:\\users\\vnsou\\appdata\\local\\programs\\python\\python39\\lib\\site-packages\\pandas\\core\\frame.py\u001b[0m in \u001b[0;36m_set_item\u001b[1;34m(self, key, value)\u001b[0m\n\u001b[0;32m   3782\u001b[0m         \u001b[0mensure\u001b[0m \u001b[0mhomogeneity\u001b[0m\u001b[1;33m.\u001b[0m\u001b[1;33m\u001b[0m\u001b[1;33m\u001b[0m\u001b[0m\n\u001b[0;32m   3783\u001b[0m         \"\"\"\n\u001b[1;32m-> 3784\u001b[1;33m         \u001b[0mvalue\u001b[0m \u001b[1;33m=\u001b[0m \u001b[0mself\u001b[0m\u001b[1;33m.\u001b[0m\u001b[0m_sanitize_column\u001b[0m\u001b[1;33m(\u001b[0m\u001b[0mvalue\u001b[0m\u001b[1;33m)\u001b[0m\u001b[1;33m\u001b[0m\u001b[1;33m\u001b[0m\u001b[0m\n\u001b[0m\u001b[0;32m   3785\u001b[0m \u001b[1;33m\u001b[0m\u001b[0m\n\u001b[0;32m   3786\u001b[0m         if (\n",
            "\u001b[1;32mc:\\users\\vnsou\\appdata\\local\\programs\\python\\python39\\lib\\site-packages\\pandas\\core\\frame.py\u001b[0m in \u001b[0;36m_sanitize_column\u001b[1;34m(self, value)\u001b[0m\n\u001b[0;32m   4504\u001b[0m         \u001b[1;31m# We should never get here with DataFrame value\u001b[0m\u001b[1;33m\u001b[0m\u001b[1;33m\u001b[0m\u001b[1;33m\u001b[0m\u001b[0m\n\u001b[0;32m   4505\u001b[0m         \u001b[1;32mif\u001b[0m \u001b[0misinstance\u001b[0m\u001b[1;33m(\u001b[0m\u001b[0mvalue\u001b[0m\u001b[1;33m,\u001b[0m \u001b[0mSeries\u001b[0m\u001b[1;33m)\u001b[0m\u001b[1;33m:\u001b[0m\u001b[1;33m\u001b[0m\u001b[1;33m\u001b[0m\u001b[0m\n\u001b[1;32m-> 4506\u001b[1;33m             \u001b[1;32mreturn\u001b[0m \u001b[0m_reindex_for_setitem\u001b[0m\u001b[1;33m(\u001b[0m\u001b[0mvalue\u001b[0m\u001b[1;33m,\u001b[0m \u001b[0mself\u001b[0m\u001b[1;33m.\u001b[0m\u001b[0mindex\u001b[0m\u001b[1;33m)\u001b[0m\u001b[1;33m\u001b[0m\u001b[1;33m\u001b[0m\u001b[0m\n\u001b[0m\u001b[0;32m   4507\u001b[0m \u001b[1;33m\u001b[0m\u001b[0m\n\u001b[0;32m   4508\u001b[0m         \u001b[1;32mif\u001b[0m \u001b[0mis_list_like\u001b[0m\u001b[1;33m(\u001b[0m\u001b[0mvalue\u001b[0m\u001b[1;33m)\u001b[0m\u001b[1;33m:\u001b[0m\u001b[1;33m\u001b[0m\u001b[1;33m\u001b[0m\u001b[0m\n",
            "\u001b[1;32mc:\\users\\vnsou\\appdata\\local\\programs\\python\\python39\\lib\\site-packages\\pandas\\core\\frame.py\u001b[0m in \u001b[0;36m_reindex_for_setitem\u001b[1;34m(value, index)\u001b[0m\n\u001b[0;32m  10779\u001b[0m         \u001b[1;32mif\u001b[0m \u001b[1;32mnot\u001b[0m \u001b[0mvalue\u001b[0m\u001b[1;33m.\u001b[0m\u001b[0mindex\u001b[0m\u001b[1;33m.\u001b[0m\u001b[0mis_unique\u001b[0m\u001b[1;33m:\u001b[0m\u001b[1;33m\u001b[0m\u001b[1;33m\u001b[0m\u001b[0m\n\u001b[0;32m  10780\u001b[0m             \u001b[1;31m# duplicate axis\u001b[0m\u001b[1;33m\u001b[0m\u001b[1;33m\u001b[0m\u001b[1;33m\u001b[0m\u001b[0m\n\u001b[1;32m> 10781\u001b[1;33m             \u001b[1;32mraise\u001b[0m \u001b[0merr\u001b[0m\u001b[1;33m\u001b[0m\u001b[1;33m\u001b[0m\u001b[0m\n\u001b[0m\u001b[0;32m  10782\u001b[0m \u001b[1;33m\u001b[0m\u001b[0m\n\u001b[0;32m  10783\u001b[0m         raise TypeError(\n",
            "\u001b[1;32mc:\\users\\vnsou\\appdata\\local\\programs\\python\\python39\\lib\\site-packages\\pandas\\core\\frame.py\u001b[0m in \u001b[0;36m_reindex_for_setitem\u001b[1;34m(value, index)\u001b[0m\n\u001b[0;32m  10774\u001b[0m     \u001b[1;31m# GH#4107\u001b[0m\u001b[1;33m\u001b[0m\u001b[1;33m\u001b[0m\u001b[1;33m\u001b[0m\u001b[0m\n\u001b[0;32m  10775\u001b[0m     \u001b[1;32mtry\u001b[0m\u001b[1;33m:\u001b[0m\u001b[1;33m\u001b[0m\u001b[1;33m\u001b[0m\u001b[0m\n\u001b[1;32m> 10776\u001b[1;33m         \u001b[0mreindexed_value\u001b[0m \u001b[1;33m=\u001b[0m \u001b[0mvalue\u001b[0m\u001b[1;33m.\u001b[0m\u001b[0mreindex\u001b[0m\u001b[1;33m(\u001b[0m\u001b[0mindex\u001b[0m\u001b[1;33m)\u001b[0m\u001b[1;33m.\u001b[0m\u001b[0m_values\u001b[0m\u001b[1;33m\u001b[0m\u001b[1;33m\u001b[0m\u001b[0m\n\u001b[0m\u001b[0;32m  10777\u001b[0m     \u001b[1;32mexcept\u001b[0m \u001b[0mValueError\u001b[0m \u001b[1;32mas\u001b[0m \u001b[0merr\u001b[0m\u001b[1;33m:\u001b[0m\u001b[1;33m\u001b[0m\u001b[1;33m\u001b[0m\u001b[0m\n\u001b[0;32m  10778\u001b[0m         \u001b[1;31m# raised in MultiIndex.from_tuples, see test_insert_error_msmgs\u001b[0m\u001b[1;33m\u001b[0m\u001b[1;33m\u001b[0m\u001b[1;33m\u001b[0m\u001b[0m\n",
            "\u001b[1;32mc:\\users\\vnsou\\appdata\\local\\programs\\python\\python39\\lib\\site-packages\\pandas\\core\\series.py\u001b[0m in \u001b[0;36mreindex\u001b[1;34m(self, index, **kwargs)\u001b[0m\n\u001b[0;32m   4578\u001b[0m     )\n\u001b[0;32m   4579\u001b[0m     \u001b[1;32mdef\u001b[0m \u001b[0mreindex\u001b[0m\u001b[1;33m(\u001b[0m\u001b[0mself\u001b[0m\u001b[1;33m,\u001b[0m \u001b[0mindex\u001b[0m\u001b[1;33m=\u001b[0m\u001b[1;32mNone\u001b[0m\u001b[1;33m,\u001b[0m \u001b[1;33m**\u001b[0m\u001b[0mkwargs\u001b[0m\u001b[1;33m)\u001b[0m\u001b[1;33m:\u001b[0m\u001b[1;33m\u001b[0m\u001b[1;33m\u001b[0m\u001b[0m\n\u001b[1;32m-> 4580\u001b[1;33m         \u001b[1;32mreturn\u001b[0m \u001b[0msuper\u001b[0m\u001b[1;33m(\u001b[0m\u001b[1;33m)\u001b[0m\u001b[1;33m.\u001b[0m\u001b[0mreindex\u001b[0m\u001b[1;33m(\u001b[0m\u001b[0mindex\u001b[0m\u001b[1;33m=\u001b[0m\u001b[0mindex\u001b[0m\u001b[1;33m,\u001b[0m \u001b[1;33m**\u001b[0m\u001b[0mkwargs\u001b[0m\u001b[1;33m)\u001b[0m\u001b[1;33m\u001b[0m\u001b[1;33m\u001b[0m\u001b[0m\n\u001b[0m\u001b[0;32m   4581\u001b[0m \u001b[1;33m\u001b[0m\u001b[0m\n\u001b[0;32m   4582\u001b[0m     \u001b[1;33m@\u001b[0m\u001b[0mdeprecate_nonkeyword_arguments\u001b[0m\u001b[1;33m(\u001b[0m\u001b[0mversion\u001b[0m\u001b[1;33m=\u001b[0m\u001b[1;32mNone\u001b[0m\u001b[1;33m,\u001b[0m \u001b[0mallowed_args\u001b[0m\u001b[1;33m=\u001b[0m\u001b[1;33m[\u001b[0m\u001b[1;34m\"self\"\u001b[0m\u001b[1;33m,\u001b[0m \u001b[1;34m\"labels\"\u001b[0m\u001b[1;33m]\u001b[0m\u001b[1;33m)\u001b[0m\u001b[1;33m\u001b[0m\u001b[1;33m\u001b[0m\u001b[0m\n",
            "\u001b[1;32mc:\\users\\vnsou\\appdata\\local\\programs\\python\\python39\\lib\\site-packages\\pandas\\core\\generic.py\u001b[0m in \u001b[0;36mreindex\u001b[1;34m(self, *args, **kwargs)\u001b[0m\n\u001b[0;32m   4816\u001b[0m \u001b[1;33m\u001b[0m\u001b[0m\n\u001b[0;32m   4817\u001b[0m         \u001b[1;31m# perform the reindex on the axes\u001b[0m\u001b[1;33m\u001b[0m\u001b[1;33m\u001b[0m\u001b[1;33m\u001b[0m\u001b[0m\n\u001b[1;32m-> 4818\u001b[1;33m         return self._reindex_axes(\n\u001b[0m\u001b[0;32m   4819\u001b[0m             \u001b[0maxes\u001b[0m\u001b[1;33m,\u001b[0m \u001b[0mlevel\u001b[0m\u001b[1;33m,\u001b[0m \u001b[0mlimit\u001b[0m\u001b[1;33m,\u001b[0m \u001b[0mtolerance\u001b[0m\u001b[1;33m,\u001b[0m \u001b[0mmethod\u001b[0m\u001b[1;33m,\u001b[0m \u001b[0mfill_value\u001b[0m\u001b[1;33m,\u001b[0m \u001b[0mcopy\u001b[0m\u001b[1;33m\u001b[0m\u001b[1;33m\u001b[0m\u001b[0m\n\u001b[0;32m   4820\u001b[0m         ).__finalize__(self, method=\"reindex\")\n",
            "\u001b[1;32mc:\\users\\vnsou\\appdata\\local\\programs\\python\\python39\\lib\\site-packages\\pandas\\core\\generic.py\u001b[0m in \u001b[0;36m_reindex_axes\u001b[1;34m(self, axes, level, limit, tolerance, method, fill_value, copy)\u001b[0m\n\u001b[0;32m   4837\u001b[0m \u001b[1;33m\u001b[0m\u001b[0m\n\u001b[0;32m   4838\u001b[0m             \u001b[0maxis\u001b[0m \u001b[1;33m=\u001b[0m \u001b[0mself\u001b[0m\u001b[1;33m.\u001b[0m\u001b[0m_get_axis_number\u001b[0m\u001b[1;33m(\u001b[0m\u001b[0ma\u001b[0m\u001b[1;33m)\u001b[0m\u001b[1;33m\u001b[0m\u001b[1;33m\u001b[0m\u001b[0m\n\u001b[1;32m-> 4839\u001b[1;33m             obj = obj._reindex_with_indexers(\n\u001b[0m\u001b[0;32m   4840\u001b[0m                 \u001b[1;33m{\u001b[0m\u001b[0maxis\u001b[0m\u001b[1;33m:\u001b[0m \u001b[1;33m[\u001b[0m\u001b[0mnew_index\u001b[0m\u001b[1;33m,\u001b[0m \u001b[0mindexer\u001b[0m\u001b[1;33m]\u001b[0m\u001b[1;33m}\u001b[0m\u001b[1;33m,\u001b[0m\u001b[1;33m\u001b[0m\u001b[1;33m\u001b[0m\u001b[0m\n\u001b[0;32m   4841\u001b[0m                 \u001b[0mfill_value\u001b[0m\u001b[1;33m=\u001b[0m\u001b[0mfill_value\u001b[0m\u001b[1;33m,\u001b[0m\u001b[1;33m\u001b[0m\u001b[1;33m\u001b[0m\u001b[0m\n",
            "\u001b[1;32mc:\\users\\vnsou\\appdata\\local\\programs\\python\\python39\\lib\\site-packages\\pandas\\core\\generic.py\u001b[0m in \u001b[0;36m_reindex_with_indexers\u001b[1;34m(self, reindexers, fill_value, copy, allow_dups)\u001b[0m\n\u001b[0;32m   4881\u001b[0m \u001b[1;33m\u001b[0m\u001b[0m\n\u001b[0;32m   4882\u001b[0m             \u001b[1;31m# TODO: speed up on homogeneous DataFrame objects\u001b[0m\u001b[1;33m\u001b[0m\u001b[1;33m\u001b[0m\u001b[1;33m\u001b[0m\u001b[0m\n\u001b[1;32m-> 4883\u001b[1;33m             new_data = new_data.reindex_indexer(\n\u001b[0m\u001b[0;32m   4884\u001b[0m                 \u001b[0mindex\u001b[0m\u001b[1;33m,\u001b[0m\u001b[1;33m\u001b[0m\u001b[1;33m\u001b[0m\u001b[0m\n\u001b[0;32m   4885\u001b[0m                 \u001b[0mindexer\u001b[0m\u001b[1;33m,\u001b[0m\u001b[1;33m\u001b[0m\u001b[1;33m\u001b[0m\u001b[0m\n",
            "\u001b[1;32mc:\\users\\vnsou\\appdata\\local\\programs\\python\\python39\\lib\\site-packages\\pandas\\core\\internals\\managers.py\u001b[0m in \u001b[0;36mreindex_indexer\u001b[1;34m(self, new_axis, indexer, axis, fill_value, allow_dups, copy, consolidate, only_slice)\u001b[0m\n\u001b[0;32m    668\u001b[0m         \u001b[1;31m# some axes don't allow reindexing with dups\u001b[0m\u001b[1;33m\u001b[0m\u001b[1;33m\u001b[0m\u001b[1;33m\u001b[0m\u001b[0m\n\u001b[0;32m    669\u001b[0m         \u001b[1;32mif\u001b[0m \u001b[1;32mnot\u001b[0m \u001b[0mallow_dups\u001b[0m\u001b[1;33m:\u001b[0m\u001b[1;33m\u001b[0m\u001b[1;33m\u001b[0m\u001b[0m\n\u001b[1;32m--> 670\u001b[1;33m             \u001b[0mself\u001b[0m\u001b[1;33m.\u001b[0m\u001b[0maxes\u001b[0m\u001b[1;33m[\u001b[0m\u001b[0maxis\u001b[0m\u001b[1;33m]\u001b[0m\u001b[1;33m.\u001b[0m\u001b[0m_validate_can_reindex\u001b[0m\u001b[1;33m(\u001b[0m\u001b[0mindexer\u001b[0m\u001b[1;33m)\u001b[0m\u001b[1;33m\u001b[0m\u001b[1;33m\u001b[0m\u001b[0m\n\u001b[0m\u001b[0;32m    671\u001b[0m \u001b[1;33m\u001b[0m\u001b[0m\n\u001b[0;32m    672\u001b[0m         \u001b[1;32mif\u001b[0m \u001b[0maxis\u001b[0m \u001b[1;33m>=\u001b[0m \u001b[0mself\u001b[0m\u001b[1;33m.\u001b[0m\u001b[0mndim\u001b[0m\u001b[1;33m:\u001b[0m\u001b[1;33m\u001b[0m\u001b[1;33m\u001b[0m\u001b[0m\n",
            "\u001b[1;32mc:\\users\\vnsou\\appdata\\local\\programs\\python\\python39\\lib\\site-packages\\pandas\\core\\indexes\\base.py\u001b[0m in \u001b[0;36m_validate_can_reindex\u001b[1;34m(self, indexer)\u001b[0m\n\u001b[0;32m   3783\u001b[0m         \u001b[1;31m# trying to reindex on an axis with duplicates\u001b[0m\u001b[1;33m\u001b[0m\u001b[1;33m\u001b[0m\u001b[1;33m\u001b[0m\u001b[0m\n\u001b[0;32m   3784\u001b[0m         \u001b[1;32mif\u001b[0m \u001b[1;32mnot\u001b[0m \u001b[0mself\u001b[0m\u001b[1;33m.\u001b[0m\u001b[0m_index_as_unique\u001b[0m \u001b[1;32mand\u001b[0m \u001b[0mlen\u001b[0m\u001b[1;33m(\u001b[0m\u001b[0mindexer\u001b[0m\u001b[1;33m)\u001b[0m\u001b[1;33m:\u001b[0m\u001b[1;33m\u001b[0m\u001b[1;33m\u001b[0m\u001b[0m\n\u001b[1;32m-> 3785\u001b[1;33m             \u001b[1;32mraise\u001b[0m \u001b[0mValueError\u001b[0m\u001b[1;33m(\u001b[0m\u001b[1;34m\"cannot reindex from a duplicate axis\"\u001b[0m\u001b[1;33m)\u001b[0m\u001b[1;33m\u001b[0m\u001b[1;33m\u001b[0m\u001b[0m\n\u001b[0m\u001b[0;32m   3786\u001b[0m \u001b[1;33m\u001b[0m\u001b[0m\n\u001b[0;32m   3787\u001b[0m     def reindex(\n",
            "\u001b[1;31mValueError\u001b[0m: cannot reindex from a duplicate axis"
          ]
        }
      ]
    },
    {
      "cell_type": "markdown",
      "metadata": {
        "id": "NWySqD5rrzuc"
      },
      "source": [
        "# --------------------------------------------------erro----------------------------------------------------\n",
        "Nada acima funcionou, tempo tentando: aprox. 2h"
      ]
    },
    {
      "cell_type": "code",
      "metadata": {
        "id": "stegYz3Erzud"
      },
      "source": [
        "display(base_airbnb.head())\n",
        "display(base_airbnb_backup.head())"
      ],
      "execution_count": null,
      "outputs": []
    },
    {
      "cell_type": "markdown",
      "metadata": {
        "id": "DGeKW9_7rzue"
      },
      "source": [
        "### Encoding"
      ]
    },
    {
      "cell_type": "code",
      "metadata": {
        "id": "By_VPRS3rzue"
      },
      "source": [],
      "execution_count": null,
      "outputs": []
    },
    {
      "cell_type": "code",
      "metadata": {
        "id": "otQStXs9rzuf"
      },
      "source": [],
      "execution_count": null,
      "outputs": []
    },
    {
      "cell_type": "markdown",
      "metadata": {
        "id": "cmGO5k3przuf"
      },
      "source": [
        "### Modelo de Previsão"
      ]
    },
    {
      "cell_type": "code",
      "metadata": {
        "id": "E0OEB9Vrrzug"
      },
      "source": [],
      "execution_count": null,
      "outputs": []
    },
    {
      "cell_type": "markdown",
      "metadata": {
        "id": "cDAF-XRbrzug"
      },
      "source": [
        "### Análise do Melhor Modelo"
      ]
    },
    {
      "cell_type": "code",
      "metadata": {
        "id": "LbaQW01xrzug"
      },
      "source": [],
      "execution_count": null,
      "outputs": []
    },
    {
      "cell_type": "markdown",
      "metadata": {
        "id": "J1eORiLqrzuh"
      },
      "source": [
        "### Ajustes e Melhorias no Melhor Modelo"
      ]
    },
    {
      "cell_type": "code",
      "metadata": {
        "id": "w6fcLhxPrzuh"
      },
      "source": [],
      "execution_count": null,
      "outputs": []
    }
  ]
}